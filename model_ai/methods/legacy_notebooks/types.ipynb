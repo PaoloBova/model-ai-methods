{
 "cells": [
  {
   "cell_type": "markdown",
   "id": "8c95a06d-0c51-49dc-a7e7-efbe7674abf3",
   "metadata": {},
   "source": [
    "# Types\n",
    "\n",
    "> A collection of type aliases I use for documenting arguments used throughout the project"
   ]
  },
  {
   "cell_type": "code",
   "execution_count": null,
   "id": "b9c84d94-798c-4b01-a422-bc2217d1028c",
   "metadata": {},
   "outputs": [],
   "source": [
    "#| default_exp types"
   ]
  },
  {
   "cell_type": "code",
   "execution_count": null,
   "id": "550f9cf1-6f5f-4857-ac2f-3c8a314bcec8",
   "metadata": {},
   "outputs": [],
   "source": [
    "#| export\n",
    "import typing\n",
    "import nptyping"
   ]
  },
  {
   "cell_type": "code",
   "execution_count": null,
   "id": "7f40cac8-6459-4157-bebf-9a23e29e8b6a",
   "metadata": {},
   "outputs": [],
   "source": [
    "#| export\n",
    "class Array1D():\n",
    "    \"\"\"An alias for a 1D numpy array.\"\"\"\n",
    "    def __init__(self,\n",
    "                 ModelVector: nptyping.NDArray[nptyping.Shape[\"N_models\"], typing.Any] # A 1D numpy array suitable for stacks of scalar parameter values\n",
    "                ):\n",
    "        pass"
   ]
  },
  {
   "cell_type": "code",
   "execution_count": null,
   "id": "07e5e633-5bd8-46bd-a9ed-e189422977e1",
   "metadata": {},
   "outputs": [],
   "source": [
    "#| export\n",
    "class Array2D():\n",
    "    \"\"\"An alias for a 2D numpy array.\"\"\"\n",
    "    def __init__(self,\n",
    "                Model2DArray: nptyping.NDArray[nptyping.Shape[\"N_models, N_states\"], typing.Any], # A 2D numpy array suitable for stacks of state vectors\n",
    "                ):\n",
    "        pass"
   ]
  },
  {
   "cell_type": "code",
   "execution_count": null,
   "id": "ed39414c-36e5-4ac7-a9a1-bc2beef8101d",
   "metadata": {},
   "outputs": [],
   "source": [
    "#| export\n",
    "class Array3D():\n",
    "    \"\"\"An alias for 3D numpy array, last two dimensions of equal size.\"\"\"\n",
    "    def __init__(self,\n",
    "                Model3DArray: nptyping.NDArray[nptyping.Shape[\"N_models, N_strategies, N_strategies\"], typing.Any] # A 3D numpy array suitable for stacks of payoff or transition matrices \n",
    "                ):\n",
    "        pass"
   ]
  },
  {
   "cell_type": "code",
   "execution_count": null,
   "id": "90481471-c2ba-491d-a451-545a2676a9d6",
   "metadata": {},
   "outputs": [],
   "source": [
    "#| export\n",
    "class ModelTypeDSAIR():\n",
    "    \"\"\"This is the schema for the inputs to a DSAIR model.\n",
    "    \n",
    "    Note: This schema is not enforced and is here purely for documentation\n",
    "    purposes.\"\"\"\n",
    "    def __init__(self, \n",
    "                 b: Array1D, # benefit: The size of the per round benefit of leading the AI development race, b>0\n",
    "                 c: Array1D, # cost: The cost of implementing safety recommendations per round, c>0\n",
    "                 s: Array1D, # speed: The speed advantage from choosing to ignore safety recommendations, s>1\n",
    "                 p: Array1D, # avoid_risk: The probability that unsafe firms avoid an AI disaster, p ∈ [0, 1]\n",
    "                 B: Array1D, # prize: The size of the prize from winning the AI development race, B>>b\n",
    "                 W: Array1D, # timeline: The anticipated timeline until the development race has a winner if everyone behaves safely, W ∈ [10, 10**6]\n",
    "                 pfo: Array1D=None, # detection risk: The probability that firms who ignore safety precautions are found out, pfo ∈ [0, 1]\n",
    "                 α: Array1D=None, # the cost of rewarding/punishing a peer\n",
    "                 γ: Array1D=None, # the effect of a reward/punishment on a developer's speed\n",
    "                 epsilon: Array1D=None, # commitment_cost: The cost of setting up and maintaining a voluntary commitment, ϵ > 0\n",
    "                 ω: Array1D=None, # noise: Noise in arranging an agreement, with some probability they fail to succeed in making an agreement, ω ∈ [0, 1]\n",
    "                 collective_risk: Array1D=None, # The likelihood that a disaster affects all actors\n",
    "                ):\n",
    "        pass"
   ]
  },
  {
   "cell_type": "code",
   "execution_count": null,
   "id": "707cfe49-da89-4714-b6f6-ab7f29203cf7",
   "metadata": {},
   "outputs": [],
   "source": [
    "#| hide\n",
    "import nbdev; nbdev.nbdev_export()"
   ]
  }
 ],
 "metadata": {
  "kernelspec": {
   "display_name": "Python 3 (ipykernel)",
   "language": "python",
   "name": "python3"
  }
 },
 "nbformat": 4,
 "nbformat_minor": 5
}
