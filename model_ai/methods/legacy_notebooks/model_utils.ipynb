{
 "cells": [
  {
   "attachments": {},
   "cell_type": "markdown",
   "metadata": {},
   "source": [
    "# Model Utilities\n",
    "\n",
    "> A set of functions that I commonly use for building models"
   ]
  },
  {
   "cell_type": "code",
   "execution_count": null,
   "metadata": {},
   "outputs": [],
   "source": [
    "#| default_exp model_utils"
   ]
  },
  {
   "cell_type": "code",
   "execution_count": null,
   "metadata": {},
   "outputs": [],
   "source": [
    "# | export\n",
    "\n",
    "from gh_pages_example.utils import *\n",
    "from gh_pages_example.types import *\n",
    "\n",
    "import collections\n",
    "import functools\n",
    "import itertools\n",
    "import math\n",
    "import typing\n",
    "\n",
    "# import chaospy\n",
    "import fastcore\n",
    "import more_itertools\n",
    "from nbdev.showdoc import *\n",
    "import nptyping\n",
    "import numpy as np\n"
   ]
  },
  {
   "attachments": {},
   "cell_type": "markdown",
   "metadata": {},
   "source": [
    "## A general method for creating model data"
   ]
  },
  {
   "cell_type": "code",
   "execution_count": null,
   "metadata": {},
   "outputs": [],
   "source": [
    "#| export\n",
    "def model_builder(saved_args:dict, # a dictionary containing parameters we want to vary or hold fixed\n",
    "                  exclude_args:list[str]=[], # a list of arguments that should be returned as they are\n",
    "                  override:bool=False, # whether to build the grid if it is very large\n",
    "                  drop_args:list[str]=['override', 'exclude_args', 'drop_args'], # a list of arguments to drop from the final result\n",
    "                 ) -> dict: # A dictionary containing items for the desired models\n",
    "    \"\"\"Build models for all combinations of the valules in `saved_args`.\"\"\"\n",
    "    axes_args1 = {k: np.array(v)\n",
    "                  for k,v in saved_args.items()\n",
    "                  if (isinstance(v, np.ndarray)\n",
    "                      or (isinstance(v, list)\n",
    "                          and all(isinstance(el, (float, int)) for el in v)))}\n",
    "    axes_args2 = {k: np.arange(v[\"start\"], v[\"stop\"], v[\"step\"])\n",
    "                  for k,v in saved_args.items()\n",
    "                  if (isinstance(v, dict)\n",
    "                      and v.keys() == {\"start\", \"stop\", \"step\"})}\n",
    "    axes_args = {**axes_args1, **axes_args2}\n",
    "    grid = build_grid_from_axes(list(axes_args.values()),\n",
    "                                override=override)\n",
    "    models = {}\n",
    "    # add grid parameters first\n",
    "    col_end = dict(zip(axes_args.keys(),\n",
    "                            np.cumsum([v.shape[-1] if np.ndim(v)==2 else 1\n",
    "                             for v in axes_args.values()])))\n",
    "    col_start = {arg: col_end[arg] - (v.shape[-1] if np.ndim(v)==2 else 1)\n",
    "                  for arg, v in axes_args.items()}\n",
    "    for i, arg in enumerate(axes_args.keys()):\n",
    "        if col_start[arg] + 1 == col_end[arg]:\n",
    "            models[arg] = grid[:, col_start[arg]]\n",
    "        else:\n",
    "            models[arg] = grid[:, col_start[arg]:col_end[arg]]\n",
    "    # add fixed parameters next\n",
    "    for arg, v in saved_args.items():\n",
    "        if arg not in (exclude_args\n",
    "                       + drop_args\n",
    "                       + list(axes_args.keys())):\n",
    "            models[arg] = np.array([v for _ in grid])\n",
    "    # add extra variables\n",
    "    for arg in exclude_args:\n",
    "        if (arg in saved_args.keys()\n",
    "            and arg not in drop_args):\n",
    "            models[arg] = saved_args[arg]\n",
    "    return models"
   ]
  },
  {
   "cell_type": "code",
   "execution_count": null,
   "metadata": {},
   "outputs": [
    {
     "data": {
      "text/markdown": [
       "---\n",
       "\n",
       "[source](https://github.com/PaoloBova/gh-pages-example/blob/main/gh_pages_example/model_utils.py#L27){target=\"_blank\" style=\"float:right; font-size:smaller\"}\n",
       "\n",
       "### model_builder\n",
       "\n",
       ">      model_builder (saved_args:dict, exclude_args:list[str]=[],\n",
       ">                     override:bool=False, drop_args:list[str]=['override',\n",
       ">                     'exclude_args', 'drop_args'])\n",
       "\n",
       "Build models for all combinations of the valules in `saved_args`.\n",
       "\n",
       "|    | **Type** | **Default** | **Details** |\n",
       "| -- | -------- | ----------- | ----------- |\n",
       "| saved_args | dict |  | a dictionary containing parameters we want to vary or hold fixed |\n",
       "| exclude_args | list | [] | a list of arguments that should be returned as they are |\n",
       "| override | bool | False | whether to build the grid if it is very large |\n",
       "| drop_args | list | ['override', 'exclude_args', 'drop_args'] | a list of arguments to drop from the final result |\n",
       "| **Returns** | **dict** |  | **A dictionary containing items for the desired models** |"
      ],
      "text/plain": [
       "---\n",
       "\n",
       "[source](https://github.com/PaoloBova/gh-pages-example/blob/main/gh_pages_example/model_utils.py#L27){target=\"_blank\" style=\"float:right; font-size:smaller\"}\n",
       "\n",
       "### model_builder\n",
       "\n",
       ">      model_builder (saved_args:dict, exclude_args:list[str]=[],\n",
       ">                     override:bool=False, drop_args:list[str]=['override',\n",
       ">                     'exclude_args', 'drop_args'])\n",
       "\n",
       "Build models for all combinations of the valules in `saved_args`.\n",
       "\n",
       "|    | **Type** | **Default** | **Details** |\n",
       "| -- | -------- | ----------- | ----------- |\n",
       "| saved_args | dict |  | a dictionary containing parameters we want to vary or hold fixed |\n",
       "| exclude_args | list | [] | a list of arguments that should be returned as they are |\n",
       "| override | bool | False | whether to build the grid if it is very large |\n",
       "| drop_args | list | ['override', 'exclude_args', 'drop_args'] | a list of arguments to drop from the final result |\n",
       "| **Returns** | **dict** |  | **A dictionary containing items for the desired models** |"
      ]
     },
     "execution_count": null,
     "metadata": {},
     "output_type": "execute_result"
    }
   ],
   "source": [
    "show_doc(model_builder)"
   ]
  },
  {
   "attachments": {},
   "cell_type": "markdown",
   "metadata": {},
   "source": [
    "### Tests for `model_builder`"
   ]
  },
  {
   "attachments": {},
   "cell_type": "markdown",
   "metadata": {},
   "source": [
    "`model_builder` is able to buid arbitrary grids over data and store them in\n",
    "a map with their respective column names."
   ]
  },
  {
   "cell_type": "code",
   "execution_count": null,
   "metadata": {},
   "outputs": [],
   "source": [
    "valid_dtypes = typing.Union[float, list[float], np.ndarray, dict]\n",
    "def example_model(b:valid_dtypes=4, # benefit: The size of the per round benefit of leading the AI development race, b>0\n",
    "                c:valid_dtypes=1, # cost: The cost of implementing safety recommendations per round, c>0\n",
    "                s:valid_dtypes={\"start\":1, # speed: The speed advantage from choosing to ignore safety recommendations, s>1\n",
    "                                \"stop\":5.1,\n",
    "                                \"step\":0.1}, \n",
    "                p:valid_dtypes={\"start\":0, # avoid_risk: The probability that unsafe firms avoid an AI disaster, p ∈ [0, 1]\n",
    "                                \"stop\":1.02,\n",
    "                                \"step\":0.02}, \n",
    "                B:valid_dtypes=10**4, # prize: The size of the prize from winning the AI development race, B>>b\n",
    "                W:valid_dtypes=100, # timeline: The anticipated timeline until the development race has a winner if everyone behaves safely, W ∈ [10, 10**6]\n",
    "                pfo_l:valid_dtypes=0, # detection_risk_lq: The probability that firms who ignore safety precautions are found out by high quality regulators, pfo_h ∈ [0, 1]\n",
    "                pfo_h:valid_dtypes=0.5, # detection_risk_hq: The probability that firms who ignore safety precautions are found out by low quality regulators, pfo_h ∈ [0, 1]\n",
    "                λ:valid_dtypes=0, # disaster_penalty: The penalty levied to regulators in case of a disaster\n",
    "                r_l:valid_dtypes=0, # profit_lq: profits for low quality regulators before including government incentives, r_l ∈ R\n",
    "                r_h:valid_dtypes=-1, # profit_hq: profits for high quality regulators before including government incentives, r_h ∈ R\n",
    "                g:valid_dtypes=1, # government budget allocated to regulators per firm regulated, g > 0\n",
    "                phi_h:valid_dtypes=0, # regulator_impact: how much do regulators punish unsafe firms they detect, by default detected firms always lose the race.\n",
    "                phi2_h:valid_dtypes=0, # regulator_impact: how much do regulators punish 2 unsafe firms they detect, by default detected firms always lose the race.\n",
    "                externality:valid_dtypes=0, # externality: damage caused to society when an AI disaster occurs\n",
    "                decisiveness:valid_dtypes=1, # How decisive the race is after a regulator gets involved\n",
    "                incentive_mix:valid_dtypes=1, # Composition of incentives, by default government always pays regulator but rescinds payment if unsafe company discovered\n",
    "                collective_risk:valid_dtypes=0, # The likelihood that a disaster affects all actors\n",
    "                β:valid_dtypes=1, # learning_rate: the rate at which players imitate each other\n",
    "                Z:dict={\"S1\": 50, \"S2\": 50}, # population_size: the number of firms and regulators\n",
    "                strategy_set:list[str]=[\"HQ-AS\", \"HQ-AU\", \"HQ-VS\",\n",
    "                                        \"LQ-AS\", \"LQ-AU\", \"LQ-VS\"], # the set of strategy combinations across all sectors\n",
    "                exclude_args:list[str]=['Z', 'strategy_set'], # a list of arguments that should be returned as they are\n",
    "                override:bool=False, # whether to build the grid if it is very large\n",
    "                drop_args:list[str]=['override', 'exclude_args', 'drop_args'], # a list of arguments to drop from the final result\n",
    "               ) -> dict: # A dictionary containing items from `ModelTypeRegMarket` and `ModelTypeEGT`\n",
    "    \"\"\"Initialise Regulatory Market models for all combinations of the provided\n",
    "    parameter valules.\"\"\"\n",
    "    \n",
    "    saved_args = locals()\n",
    "    models = model_builder(saved_args,\n",
    "                           exclude_args=exclude_args,\n",
    "                           override=override,\n",
    "                           drop_args=drop_args)\n",
    "    return models"
   ]
  },
  {
   "cell_type": "code",
   "execution_count": null,
   "metadata": {},
   "outputs": [],
   "source": [
    "models = example_model()\n",
    "fastcore.test.test_eq(models['s'].shape, (51*41,))"
   ]
  },
  {
   "cell_type": "code",
   "execution_count": null,
   "metadata": {},
   "outputs": [],
   "source": [
    "models = example_model(s=[0, 1])\n",
    "fastcore.test.test_eq(np.unique(models['s']), [0, 1])"
   ]
  },
  {
   "cell_type": "markdown",
   "metadata": {},
   "source": [
    "It is also possible\n",
    "to provide some data which is quasi monte carlo sampled as a 2D array and have\n",
    "that be repeated for each combination of the other axes. \n",
    "\n",
    "It is up to the user to later split the quasi monte carlo sampled data into\n",
    "their respective variables."
   ]
  },
  {
   "cell_type": "code",
   "execution_count": null,
   "metadata": {},
   "outputs": [],
   "source": [
    "# paxis, saxis = chaospy.J(chaospy.TruncNormal(mu=0.2, sigma=1, lower=0, upper=1),\n",
    "#                          chaospy.TruncNormal(mu=2, sigma=2, lower=1, upper=5)\n",
    "#                          ).sample(1000, rule=\"halton\").round(4)"
   ]
  },
  {
   "cell_type": "code",
   "execution_count": null,
   "metadata": {},
   "outputs": [],
   "source": [
    "# models =  model_builder(saved_args={\"s\": np.array([paxis, saxis]).T,\n",
    "#                                     \"g\": np.arange(0, 3, 0.5)})\n",
    "# np.array([paxis, saxis]).T.shape, models['s'].shape, models['g'].shape\n",
    "# fastcore.test.test_eq(models['s'].shape, (6*1000, 2))"
   ]
  },
  {
   "cell_type": "code",
   "execution_count": null,
   "metadata": {},
   "outputs": [],
   "source": [
    "# models = model_builder(saved_args={\"s\": saxis,\n",
    "#                                    \"g\": np.arange(0, 3, 0.5)})\n",
    "# fastcore.test.test_eq(models['s'].shape, (6*1000,))"
   ]
  },
  {
   "cell_type": "code",
   "execution_count": null,
   "metadata": {},
   "outputs": [],
   "source": [
    "# models = example_model(s=np.array([paxis, saxis]).T,\n",
    "#                        p = 0,\n",
    "#                        g=np.arange(0, 3, 0.5))\n",
    "# fastcore.test.test_eq(models['s'].shape, (6*1000, 2))\n",
    "# models['p'] = models['s'][:, 0]\n",
    "# models['s'] = models['s'][:, 1]\n",
    "# fastcore.test.test_eq(models['p'].shape, (6*1000,))\n",
    "# fastcore.test.test_eq(models['s'].shape, (6*1000,))"
   ]
  },
  {
   "attachments": {},
   "cell_type": "markdown",
   "metadata": {},
   "source": [
    "## Efficiently find profiles for hypergeometric sampling"
   ]
  },
  {
   "attachments": {},
   "cell_type": "markdown",
   "metadata": {},
   "source": [
    "### `find_unique_allocations`"
   ]
  },
  {
   "attachments": {},
   "cell_type": "markdown",
   "metadata": {},
   "source": [
    "\n",
    "We want to lexicographically sort our 2D array as we want to sort them so that\n",
    "those thoses with the highest counts for the lowest strategies (according to\n",
    "their numerical code) for the earliest subgroups considered (players are split\n",
    "into subgroups based on their allowed sectors, and subgroups are ordered by\n",
    "their lowest player index).\n",
    "\n",
    "We can achieve this if we have strategy counts for each subgroup in a list,\n",
    "with counts for earlier subgroups first. We then build a list of these lists,\n",
    "one list for each possible way of achieving the same combined strategy count if\n",
    "we added each strategy count for each subgroup together. \n",
    "\n",
    "So, I test that we can correctly convert a list of list of arrays to our desired\n",
    "2D array.\n",
    "\n",
    "We then perform our lexicographic sort and take only the last row of the sorted\n",
    "array. This is the combination of strategy counts which satisfies the properties\n",
    "we specified above."
   ]
  },
  {
   "cell_type": "code",
   "execution_count": null,
   "metadata": {},
   "outputs": [],
   "source": [
    "# | export\n",
    "def find_unique_allocations(n,  # The number of items to allocate\n",
    "                            k):  # The number of bins that items can be allocated to\n",
    "    \"\"\"Find all combinations with replacement of 'n' of the first `k` integers\n",
    "    where the sum of the integers is `k`.\"\"\"\n",
    "    divider_locations = itertools.combinations(range(n+k-1), k-1)\n",
    "    allocations = [np.diff(d, append=n+k-1, prepend=-1) - 1\n",
    "                   for d in divider_locations]\n",
    "    return allocations\n"
   ]
  },
  {
   "attachments": {},
   "cell_type": "markdown",
   "metadata": {},
   "source": [
    "#### Tests for `find_unique_allocations`"
   ]
  },
  {
   "cell_type": "code",
   "execution_count": null,
   "metadata": {},
   "outputs": [],
   "source": [
    "fastcore.test.test_eq(find_unique_allocations(2, 4),\n",
    "                      [[0, 0, 0, 2],\n",
    "                       [0, 0, 1, 1],\n",
    "                       [0, 0, 2, 0],\n",
    "                       [0, 1, 0, 1],\n",
    "                       [0, 1, 1, 0],\n",
    "                       [0, 2, 0, 0],\n",
    "                       [1, 0, 0, 1],\n",
    "                       [1, 0, 1, 0],\n",
    "                       [1, 1, 0, 0],\n",
    "                       [2, 0, 0, 0], ])\n",
    "\n",
    "fastcore.test.test_eq(find_unique_allocations(4, 3),\n",
    "                      [[0, 0, 4],\n",
    "                       [0, 1, 3],\n",
    "                       [0, 2, 2],\n",
    "                       [0, 3, 1],\n",
    "                       [0, 4, 0],\n",
    "                       [1, 0, 3],\n",
    "                       [1, 1, 2],\n",
    "                       [1, 2, 1],\n",
    "                       [1, 3, 0],\n",
    "                       [2, 0, 2],\n",
    "                       [2, 1, 1],\n",
    "                       [2, 2, 0],\n",
    "                       [3, 0, 1],\n",
    "                       [3, 1, 0],\n",
    "                       [4, 0, 0], ])\n"
   ]
  },
  {
   "attachments": {},
   "cell_type": "markdown",
   "metadata": {},
   "source": [
    "#### Tests for building blocks of `find_unique_counts`"
   ]
  },
  {
   "cell_type": "code",
   "execution_count": null,
   "metadata": {},
   "outputs": [],
   "source": [
    "current_sub_group = [[\"2\", \"3\"], 2]\n",
    "count_groups = [[[0, 1, 0, 0], [[1, 0, 0, 0]]],\n",
    "                [[1, 0, 0, 0], [[0, 1, 0, 0]]],\n",
    "                ]\n",
    "categories, n_draws = current_sub_group\n",
    "n_categories = len(categories)\n",
    "counts = find_unique_allocations(n_draws, n_categories)\n",
    "n_all_categories = len(count_groups[0][0])\n",
    "allocations = np.zeros((len(counts), n_all_categories))\n",
    "for category, count in zip(categories, np.array(counts).T):\n",
    "    allocations[:, int(category)] = count\n",
    "\n",
    "fastcore.test.test_eq(allocations,\n",
    "                      [[0, 0, 0, 2],\n",
    "                       [0, 0, 1, 1],\n",
    "                       [0, 0, 2, 0], ])\n",
    "\n",
    "\n",
    "current_sub_group = [[\"1\", \"3\"], 2]\n",
    "count_groups = [[[0, 1, 0, 0], [[1, 0, 0, 0]]],\n",
    "                [[1, 0, 0, 0], [[0, 1, 0, 0]]],\n",
    "                ]\n",
    "categories, n_draws = current_sub_group\n",
    "n_categories = len(categories)\n",
    "counts = find_unique_allocations(n_draws, n_categories)\n",
    "n_all_categories = len(count_groups[0][0])\n",
    "allocations = np.zeros((len(counts), n_all_categories))\n",
    "for category, count in zip(categories, np.array(counts).T):\n",
    "    allocations[:, int(category)] = count\n",
    "\n",
    "fastcore.test.test_eq(allocations,\n",
    "                      [[0, 0, 0, 2],\n",
    "                       [0, 1, 0, 1],\n",
    "                       [0, 2, 0, 0], ])\n"
   ]
  },
  {
   "cell_type": "code",
   "execution_count": null,
   "metadata": {},
   "outputs": [],
   "source": [
    "fastcore.test.test_eq(np.sum([[1, 1], np.array([1, 2])], axis=1),\n",
    "                      [2, 3])\n",
    "fastcore.test.test_eq(\":\".join(map(str, map(int, [1, 2, 3.0]))),\n",
    "                      \"1:2:3\")\n"
   ]
  },
  {
   "cell_type": "code",
   "execution_count": null,
   "metadata": {},
   "outputs": [],
   "source": [
    "repeated_counts = [[np.array([1, 2, 3]),\n",
    "                    np.array([2, 3, 4]), ],\n",
    "                   [np.array([2, 3, 4]),\n",
    "                    np.array([1, 2, 3]), ]]\n",
    "y = np.vstack([np.hstack(seq) for seq in repeated_counts])\n",
    "fastcore.test.test_eq(y,\n",
    "                      np.array([[1, 2, 3, 2, 3, 4],\n",
    "                                [2, 3, 4, 1, 2, 3]]))\n",
    "fastcore.test.test_eq(np.lexsort(y.T[::-1]),\n",
    "                      [0, 1])\n",
    "fastcore.test.test_eq(np.lexsort(y.T[::-1])[-1],\n",
    "                      1)\n",
    "fastcore.test.test_eq(y[np.lexsort(y.T[::-1])[-1]],\n",
    "                      [2, 3, 4, 1, 2, 3])\n",
    "fastcore.test.test_eq(np.split(y[np.lexsort(y.T[::-1])[-1]], 2),\n",
    "                      [[2, 3, 4], [1, 2, 3]])\n"
   ]
  },
  {
   "attachments": {},
   "cell_type": "markdown",
   "metadata": {},
   "source": [
    "### `find_unique_counts`"
   ]
  },
  {
   "cell_type": "code",
   "execution_count": null,
   "metadata": {},
   "outputs": [],
   "source": [
    "# | export\n",
    "def find_unique_counts(count_groups, current_sub_group):\n",
    "    \"\"\"Build a list of all unique count groups given an allocation and a list\n",
    "    of existing unique counts.\"\"\"\n",
    "    new_count_groups = []\n",
    "    combined_counts = collections.defaultdict(list)\n",
    "    # First, we turn our new allocation rules into an array of all possible\n",
    "    # allocations for this sub-group.\n",
    "    # Each player in a sub-group follows the same allocation rules so they can\n",
    "    # each have any relevant strategy.\n",
    "    # Each allocation must have all relevant strategy counts recorded, including\n",
    "    # those which are 0.\n",
    "    categories, n_draws = current_sub_group\n",
    "    n_categories = len(categories)\n",
    "    counts = find_unique_allocations(n_draws, n_categories)\n",
    "    n_all_categories = len(count_groups[0][0])\n",
    "    allocations = np.zeros((len(counts), n_all_categories))\n",
    "    for category, count in zip(categories, np.array(counts).T):\n",
    "        allocations[:, int(category)] = count\n",
    "    for group in count_groups:\n",
    "        for allocation in allocations:\n",
    "            count_seq = [*group, [*map(int, allocation)]]\n",
    "            combined_count = np.sum(count_seq, axis=0)\n",
    "            count_key = \":\".join(map(str, map(int, combined_count)))\n",
    "            combined_counts[count_key].append(count_seq)\n",
    "    for repeated_counts in combined_counts.values():\n",
    "        if len(repeated_counts) == 1:\n",
    "            new_count_groups.append(repeated_counts[0])\n",
    "        else:\n",
    "            n_sub_groups = len(repeated_counts[0])\n",
    "            # Convert the repeated counts into a 2D array\n",
    "            x = np.vstack([np.hstack(seq) for seq in repeated_counts])\n",
    "            # Lexicographic sort means that lower strategies most common on bottom\n",
    "            # row (for earlier sub-groups).\n",
    "            candidate = x[np.lexsort(x.T[::-1])[-1]]\n",
    "            # Split row back into a list of counts for each sub-group\n",
    "            # Throw an error if for some reason the sub-groups have differently\n",
    "            # sized arrays (only possible if wrong values passed to this function).\n",
    "            candidate = np.split(candidate, n_sub_groups)\n",
    "            new_count_groups.append(candidate)\n",
    "    return new_count_groups\n"
   ]
  },
  {
   "attachments": {},
   "cell_type": "markdown",
   "metadata": {},
   "source": [
    "#### Tests for `find_unique_counts`"
   ]
  },
  {
   "cell_type": "code",
   "execution_count": null,
   "metadata": {},
   "outputs": [],
   "source": [
    "current_sub_group = [[\"2\", \"3\"], 2]\n",
    "count_groups = [[[0, 0, 0, 0]], ]\n",
    "result = find_unique_counts(count_groups, current_sub_group)\n",
    "expected = [[[0, 0, 0, 0], [0, 0, 0, 2]],\n",
    "            [[0, 0, 0, 0], [0, 0, 1, 1]],\n",
    "            [[0, 0, 0, 0], [0, 0, 2, 0]]]\n"
   ]
  },
  {
   "cell_type": "code",
   "execution_count": null,
   "metadata": {},
   "outputs": [],
   "source": [
    "current_sub_group = [[\"2\", \"3\"], 2]\n",
    "count_groups = [[[1, 0, 0, 0], [0, 1, 0, 0]], ]\n",
    "result = find_unique_counts(count_groups, current_sub_group)\n",
    "expected = [[[1, 0, 0, 0], [0, 1, 0, 0], [0, 0, 0, 2]],\n",
    "            [[1, 0, 0, 0], [0, 1, 0, 0], [0, 0, 1, 1]],\n",
    "            [[1, 0, 0, 0], [0, 1, 0, 0], [0, 0, 2, 0]]]\n",
    "\n",
    "current_sub_group = [[\"2\", \"3\"], 2]\n",
    "# Notice that the given count groups are redundant since if we had created them\n",
    "# using `find_unique_counts`, then we would have only kept the bottom one.\n",
    "count_groups = [[[0, 1, 0, 0], [1, 0, 0, 0]],\n",
    "                [[1, 0, 0, 0], [0, 1, 0, 0]],\n",
    "                ]\n",
    "result = find_unique_counts(count_groups, current_sub_group)\n",
    "expected = [[[1, 0, 0, 0], [0, 1, 0, 0], [0, 0, 0, 2]],\n",
    "            [[1, 0, 0, 0], [0, 1, 0, 0], [0, 0, 1, 1]],\n",
    "            [[1, 0, 0, 0], [0, 1, 0, 0], [0, 0, 2, 0]]]\n"
   ]
  },
  {
   "cell_type": "code",
   "execution_count": null,
   "metadata": {},
   "outputs": [],
   "source": [
    "allowed_sectors = {\"P1\": [\"S1\"],\n",
    "                   \"P2\": [\"S1\", \"S2\"], }\n",
    "sector_strategies = {\"S1\": [\"1\", \"2\"],\n",
    "                     \"S2\": [\"3\", \"4\"],\n",
    "                     \"S3\": [\"5\", \"6\"]}\n",
    "\n",
    "rules = collections.defaultdict(list)\n",
    "for player, sectors in allowed_sectors.items():\n",
    "    available_strategies = []\n",
    "    for sector in sectors:\n",
    "        available_strategies += sector_strategies[sector]\n",
    "    available_strategies = np.unique(available_strategies)\n",
    "    rule = \":\".join(available_strategies)\n",
    "    rules[rule].append(player)\n",
    "\n",
    "subgroups = [[str.split(rule, ':'), len(players)]\n",
    "             for rule, players in rules.items()]\n",
    "\n",
    "fastcore.test.test_eq(subgroups,\n",
    "                      [[['1', '2'], 1], [['1', '2', '3', '4'], 1]])"
   ]
  },
  {
   "cell_type": "code",
   "execution_count": null,
   "metadata": {},
   "outputs": [],
   "source": [
    "sorted([\"P10\", \"P1\",\"P2\"])\n",
    "player_strings = [\"P10\", \"P1\",\"P2\"]\n",
    "player_numbers = [int(\"\".join(string[1:]))\n",
    "                  for string in player_strings]\n",
    "players = [f\"P{x}\" for x in sorted(player_numbers)]\n",
    "fastcore.test.test_eq(players, [\"P1\", \"P2\",\"P10\"])"
   ]
  },
  {
   "attachments": {},
   "cell_type": "markdown",
   "metadata": {},
   "source": [
    "## Methods for creating strategy profile codes for a set of models."
   ]
  },
  {
   "cell_type": "markdown",
   "id": "7c140dbc-8df2-48de-960c-86f4ef1b4592",
   "metadata": {},
   "source": [
    "I also need a method for creating all possible player profiles. I need to use this method before the profile filters can do any filtering.\n",
    "\n",
    "We can also apply our profile filters to this list to know exactly which profiles we need to write payoffs for.\n",
    "\n",
    "I also use this method to validate that we have passed sufficient information to payoffs, and to warn us about what is missing."
   ]
  },
  {
   "cell_type": "markdown",
   "id": "906050c6",
   "metadata": {},
   "source": [
    "Note that it creates strategy profiles where some players may not be present\n",
    "(as represented by the strategy `0`). It is useful to think of `0` as\n",
    "representing a \"null sector\" as it captures the possibility that a player\n",
    "isn't sampled from any of the sectors. \n",
    "\n",
    "If one instead wants to capture the possibility that particular sectors may be less likely to participate, they may achieve this by creating a new strategy for that sector to\n",
    "represent a member from that sector as not participating in the interaction. It is also\n",
    "possible to achieve a similar effect by using `sector_weights`.\n",
    "\n",
    "I prefer to reserve `0` as a code for a missing player, so I index strategies from `1`.\n",
    "However, note that if you wish to index your strategies from `0` instead, the\n",
    "profile filters are flexible enough to allow you to do so without issue. If you\n",
    "wish to later add the possibility of missing players, you just need to assign it\n",
    "a new code which you use to indicate the relevant payoffs."
   ]
  },
  {
   "cell_type": "code",
   "execution_count": null,
   "metadata": {},
   "outputs": [],
   "source": [
    "#| export\n",
    "@multi\n",
    "def create_profiles(models):\n",
    "    \"\"\"Create strategy profiles relevant to the strategies, players, and sectors\n",
    "    in models according to the given rule\"\"\"\n",
    "    return models.get('profiles_rule')\n",
    "\n",
    "@method(create_profiles, \"anonymous\")\n",
    "def create_profiles(models):\n",
    "    \"\"\"Create strategy profiles for each combination of strategies. As\n",
    "    the payoffs do not care who each player is (i.e. they are anonymous), we\n",
    "    only create one profile for each unique strategy count. In this case we\n",
    "    always keep alike strategies together with the lowest strategy on the right,\n",
    "    weakly increasing as we read left, where possible. \n",
    "\n",
    "    When some players only\n",
    "    draw from a subset of sectors, we follow a similar process for each unique\n",
    "    subset of sectors that groups of players are allowed to sample from.\n",
    "\n",
    "    Follow this routine: given one subset and the previous result of this\n",
    "    routine, find all possible strategy counts using the previous set of\n",
    "    strategy counts and the allowed player allocations for this subset. When\n",
    "    we repeat a strategy count, keep only the strategy count (for the subset)\n",
    "    associated with the previous strategy count with the highest value of\n",
    "    lower strategies. This way, we have a reducer function that returns a\n",
    "    list of lists of strategy count components which always add up to a unique\n",
    "    strategy count.\n",
    "    \"\"\"\n",
    "\n",
    "    sector_strategies = models.get('sector_strategies', {})\n",
    "    allowed_sectors = models.get('allowed_sectors', {})\n",
    "    n_strategies = [len(v) for v in sector_strategies.values()]\n",
    "    zero_strategy = False\n",
    "    for strategies in sector_strategies.values():\n",
    "        if \"0\" in strategies:\n",
    "            zero_strategy = True\n",
    "    n_strategies_total = np.sum(n_strategies) + (1 - zero_strategy)\n",
    "\n",
    "    rules = collections.defaultdict(list)\n",
    "    for player, sectors in allowed_sectors.items():\n",
    "        available_strategies = []\n",
    "        for sector in sectors:\n",
    "            available_strategies += sector_strategies[sector]\n",
    "        available_strategies = np.unique(available_strategies)\n",
    "        rule = \":\".join(available_strategies)\n",
    "        rules[rule].append(player)\n",
    "\n",
    "    subgroups = [[str.split(rule, ':'), len(players)]\n",
    "                 for rule, players in rules.items()]\n",
    "    zero_counts = [[np.zeros((n_strategies_total), dtype=int)]]\n",
    "    unique_counts = functools.reduce(find_unique_counts,\n",
    "                                     subgroups,\n",
    "                                     zero_counts)\n",
    "    profiles = []\n",
    "    for unique_count in unique_counts:\n",
    "        player_assignments = {}\n",
    "        unique_count = unique_count[1:]\n",
    "        for i, subgroup_count in enumerate(unique_count):\n",
    "            subgroup_key = \":\".join(map(str, subgroups[i][0]))\n",
    "            player_strings = rules[subgroup_key]\n",
    "            player_numbers = [int(\"\".join(string[1:]))\n",
    "                              for string in player_strings]\n",
    "            subgroup_players = [f\"P{x}\" for x in sorted(player_numbers)]\n",
    "            count = subgroup_count.copy()\n",
    "            for player in subgroup_players:\n",
    "                strategy = np.argmax(np.array(count) > 0)\n",
    "                player_assignments[player] = strategy\n",
    "                count[strategy] -= 1\n",
    "        profile = [player_assignments[f\"P{i+1}\"]\n",
    "                   for i, _ in enumerate(player_assignments)]\n",
    "        profile = \"-\".join(map(str, profile[::-1]))\n",
    "        profiles.append(profile)\n",
    "    return {**models, \"profiles\": profiles}\n",
    "\n",
    "@method(create_profiles, \"from_strategy_count\")\n",
    "def create_profiles(models):\n",
    "    \"\"\"Create all valid profiles given allowed_actions, where the count of each\n",
    "    strategy is equal to the given strategy_count.\"\"\"\n",
    "    strategy_count = models['strategy_count']\n",
    "    allowed_actions = models.get('allowed_actions', {}) # Optional\n",
    "    # If provided, allowed_actions must provide rules for every player.\n",
    "    assert (len(allowed_actions) == sum(strategy_count.values())\n",
    "            or allowed_actions == {})\n",
    "    # Create a set based on the strategy_count\n",
    "    strategy_pool = [[strategy]*count for strategy, count in strategy_count.items()]\n",
    "    strategy_pool = [val for sublist in strategy_pool for val in sublist]\n",
    "    profiles = []\n",
    "    if allowed_actions == {}:\n",
    "        for profile in more_itertools.distinct_permutations(strategy_pool,\n",
    "                                                            r=len(strategy_pool)):\n",
    "            profile = \"-\".join(map(str, profile))\n",
    "            profiles.append(profile)\n",
    "    else:\n",
    "        for profile in more_itertools.distinct_permutations(strategy_pool,\n",
    "                                                            r=len(strategy_pool)):\n",
    "            profile_valid = True\n",
    "            for player, strategy in enumerate(string_to_tuple(profile)):\n",
    "                if strategy not in allowed_actions[f\"P{player + 1}\"]:\n",
    "                    profile_valid = False\n",
    "            if profile_valid:\n",
    "                profiles.append(profile)\n",
    "    return {**models, \"profiles\": profiles}\n",
    "\n",
    "# @method(create_profiles)\n",
    "# def create_profiles(models):\n",
    "#     \"\"\"Create all strategy profiles for the set of models.\"\"\"\n",
    "#     sector_strategies = models.get('sector_strategies', {})\n",
    "#     allowed_sectors = models.get('allowed_sectors', {})\n",
    "#     n_players = models.get('n_players', len(allowed_sectors))\n",
    "#     n_strategies = models.get('n_strategies',\n",
    "#                               [len(v) for v in sector_strategies.values()])\n",
    "#     n_strategies_total = np.sum(n_strategies)\n",
    "#     zero_strategy = False\n",
    "#     for strategies in sector_strategies.values():\n",
    "#         if \"0\" in strategies:\n",
    "#             zero_strategy = True\n",
    "#     n_strategies_total += (1 - zero_strategy)  # Add null sector if not present\n",
    "#     n_profiles = n_strategies_total ** n_players\n",
    "#     strategy_axis = np.arange(n_strategies_total)[:, None]\n",
    "#     grid = build_grid_from_axes([strategy_axis for _ in range(n_players)])\n",
    "#     profiles = []\n",
    "#     for row in grid:\n",
    "#         profile = \"-\".join(map(str, row))\n",
    "#         profiles.append(profile)\n",
    "#     fastcore.test.test_eq(len(profiles), n_profiles)\n",
    "#     return {**models, \"profiles\": profiles}\n",
    "\n",
    "\n",
    "@method(create_profiles)\n",
    "def create_profiles(models):\n",
    "    \"\"\"Create all strategy profiles for the set of models.\"\"\"\n",
    "    sector_strategies = models.get('sector_strategies', {})\n",
    "    allowed_sectors = models.get('allowed_sectors', {})\n",
    "    n_players = models.get('n_players', len(allowed_sectors))\n",
    "    n_strategies = models.get('n_strategies',\n",
    "                              [len(v) for v in sector_strategies.values()])\n",
    "    n_strategies_total = np.sum(n_strategies)\n",
    "    if sector_strategies=={}:\n",
    "        strategies = np.arange(n_strategies_total)\n",
    "    else:\n",
    "        strategies = np.unique([strategy\n",
    "                                for sector in sector_strategies.keys()\n",
    "                                for strategy in sector_strategies[sector]])\n",
    "    n_profiles = n_strategies_total ** n_players\n",
    "    strategy_axis = strategies[:, None]\n",
    "    grid = build_grid_from_axes([strategy_axis for _ in range(n_players)])\n",
    "    profiles = []\n",
    "    for row in grid:\n",
    "        profile = \"-\".join(map(str, row))\n",
    "        profiles.append(profile)\n",
    "    fastcore.test.test_eq(len(profiles), n_profiles)\n",
    "    return {**models, \"profiles\": profiles}"
   ]
  },
  {
   "attachments": {},
   "cell_type": "markdown",
   "metadata": {},
   "source": [
    "##### Tests for `create_profiles`"
   ]
  },
  {
   "cell_type": "markdown",
   "metadata": {},
   "source": [
    "Here are tests for the default method, where all possible profiles are created\n",
    "for a given number of strategies and players."
   ]
  },
  {
   "cell_type": "code",
   "execution_count": null,
   "metadata": {},
   "outputs": [],
   "source": [
    "result = create_profiles({\"n_players\": 2, \"n_strategies\": 3})\n",
    "fastcore.test.test_eq(result['profiles'],\n",
    "                      ['0-0', '0-1', '0-2',\n",
    "                       '1-0', '1-1', '1-2',\n",
    "                       '2-0', '2-1', '2-2'])\n",
    "\n",
    "result = create_profiles({\"n_players\": 2, \"n_strategies\": [3, 1]})\n",
    "fastcore.test.test_eq(result['profiles'],\n",
    "                      [\"0-0\", \"0-1\", \"0-2\", \"0-3\",\n",
    "                       \"1-0\", \"1-1\", \"1-2\", \"1-3\",\n",
    "                       \"2-0\", \"2-1\", \"2-2\", \"2-3\",\n",
    "                       \"3-0\", \"3-1\", \"3-2\", \"3-3\", ])\n",
    "\n",
    "fastcore.test.test_eq(create_profiles({\"n_players\": 2,\n",
    "                                       \"n_strategies\": [2, 2]})['profiles'],\n",
    "                      create_profiles({\"n_players\": 2,\n",
    "                                       \"n_strategies\": 4})['profiles'])\n",
    "\n",
    "models = {\"allowed_sectors\": {\"P1\": [\"S1\"],\n",
    "                              \"P2\": [\"S2\"]},\n",
    "          \"sector_strategies\": {\"S1\": [0, 1],\n",
    "                                \"S2\": [2, 3]}}\n",
    "fastcore.test.test_eq(create_profiles(models)['profiles'],\n",
    "                      create_profiles({\"n_players\": 2,\n",
    "                                       \"n_strategies\": 4})['profiles'])\n"
   ]
  },
  {
   "attachments": {},
   "cell_type": "markdown",
   "metadata": {},
   "source": [
    "I'll test the `\"from_strategy_count\"` method. Notice that it grows\n",
    "quickly for larger strategy counts with more choices. As a rule of thumb, this\n",
    "will become untenable with more than 10 players, especially when there are more\n",
    "choices to choose between."
   ]
  },
  {
   "cell_type": "code",
   "execution_count": null,
   "metadata": {},
   "outputs": [],
   "source": [
    "strategy_count = {\"1\": 2, \"2\": 2}\n",
    "models = {\"strategy_count\": strategy_count,\n",
    "          \"profiles_rule\": \"from_strategy_count\"}\n",
    "results = create_profiles(models)\n",
    "length = (math.factorial(sum(strategy_count.values()))\n",
    "          / math.prod([math.factorial(v) for v in strategy_count.values()]))\n",
    "fastcore.test.test_eq(length, len(results['profiles']))\n",
    "expected = [\"1-1-2-2\",\n",
    "            \"1-2-1-2\",\n",
    "            \"1-2-2-1\",\n",
    "            \"2-1-1-2\",\n",
    "            \"2-1-2-1\",\n",
    "            \"2-2-1-1\",]\n",
    "fastcore.test.test_eq(expected, results['profiles'])\n",
    "\n",
    "strategy_count = {\"1\": 2, \"2\": 2, \"3\": 4, \"4\": 3}\n",
    "models = {\"strategy_count\": strategy_count,\n",
    "          \"profiles_rule\": \"from_strategy_count\"}\n",
    "results = create_profiles(models)\n",
    "length = (math.factorial(sum(strategy_count.values()))\n",
    "          / math.prod([math.factorial(v) for v in strategy_count.values()]))\n",
    "fastcore.test.test_eq(length, len(results['profiles']))"
   ]
  },
  {
   "attachments": {},
   "cell_type": "markdown",
   "metadata": {},
   "source": [
    "We also include tests for the `create_profiles` \"anonymous\" method. which only\n",
    "creates one profile for each unique count of strategies."
   ]
  },
  {
   "cell_type": "code",
   "execution_count": null,
   "metadata": {},
   "outputs": [],
   "source": [
    "allowed_sectors = {\"P1\": [\"S1\"],\n",
    "                   \"P2\": [\"S1\", \"S2\"], }\n",
    "# Third sector irrelevant given allowed sectors\n",
    "sector_strategies = {\"S1\": [\"1\", \"2\"],\n",
    "                     \"S2\": [\"3\", \"4\"],\n",
    "                     \"S3\": [\"5\", \"6\"]}\n",
    "models = {\"allowed_sectors\": allowed_sectors,\n",
    "          \"sector_strategies\": sector_strategies,\n",
    "          \"profiles_rule\": \"anonymous\", }\n",
    "profiles = create_profiles(models)['profiles']\n",
    "expected = ['4-2', '3-2', '2-2', '2-1', '4-1', '3-1', '1-1']\n",
    "fastcore.test.test_eq(profiles, expected)\n",
    "fastcore.test.test_eq(sorted(profiles),\n",
    "                      ['1-1', '2-1', '2-2', '3-1', '3-2', '4-1', '4-2'])\n"
   ]
  },
  {
   "cell_type": "code",
   "execution_count": null,
   "metadata": {},
   "outputs": [],
   "source": [
    "allowed_sectors = {\"P1\": [\"S1\"],\n",
    "                   \"P2\": [\"S1\", \"S2\"], }\n",
    "# Third sector irrelevant given allowed sectors\n",
    "sector_strategies = {\"S1\": [\"1\", \"0\"],\n",
    "                     \"S2\": [\"3\", \"4\"],\n",
    "                     \"S3\": [\"5\", \"6\"]}\n",
    "models = {\"allowed_sectors\": allowed_sectors,\n",
    "          \"sector_strategies\": sector_strategies,\n",
    "          \"profiles_rule\": \"anonymous\", }\n",
    "profiles = create_profiles(models)['profiles']\n",
    "expected = ['4-1', '3-1', '1-1', '1-0', '4-0', '3-0', '0-0']\n",
    "fastcore.test.test_eq(profiles, expected)\n",
    "fastcore.test.test_eq(sorted(profiles),\n",
    "                      ['0-0', '1-0', '1-1', '3-0', '3-1', '4-0', '4-1'])"
   ]
  },
  {
   "cell_type": "code",
   "execution_count": null,
   "metadata": {},
   "outputs": [],
   "source": [
    "allowed_sectors = {\"P1\": [\"S1\"],\n",
    "                   \"P2\": [\"S1\", \"S2\"],\n",
    "                   \"P3\": [\"S1\", \"S2\"],\n",
    "                   \"P4\": [\"S1\", \"S2\"],\n",
    "                   \"P5\": [\"S1\", \"S2\"],\n",
    "                   \"P6\": [\"S1\", \"S2\"],\n",
    "                   \"P7\": [\"S1\", \"S2\"],\n",
    "                   \"P8\": [\"S1\", \"S2\"],\n",
    "                   \"P9\": [\"S1\", \"S2\"],\n",
    "                   \"P10\": [\"S1\", \"S2\"], }\n",
    "# Third sector irrelevant given allowed sectors\n",
    "sector_strategies = {\"S1\": [\"1\", \"2\"],\n",
    "                     \"S2\": [\"3\", \"4\"],\n",
    "                     \"S3\": [\"5\", \"6\"]}\n",
    "models = {\"allowed_sectors\": allowed_sectors,\n",
    "          \"sector_strategies\": sector_strategies,\n",
    "          \"profiles_rule\": \"anonymous\", }\n",
    "profiles = create_profiles(models)['profiles']\n",
    "expected = ['1-1-1-1-1-1-1-1-1-1',\n",
    "            '2-1-1-1-1-1-1-1-1-1',\n",
    "            '2-2-1-1-1-1-1-1-1-1',\n",
    "            '2-2-2-1-1-1-1-1-1-1',\n",
    "            '2-2-2-2-1-1-1-1-1-1',\n",
    "            '2-2-2-2-2-1-1-1-1-1',\n",
    "            '2-2-2-2-2-2-1-1-1-1',\n",
    "            '2-2-2-2-2-2-2-1-1-1',\n",
    "            '2-2-2-2-2-2-2-2-1-1',\n",
    "            '2-2-2-2-2-2-2-2-2-1',\n",
    "            '2-2-2-2-2-2-2-2-2-2',\n",
    "            '3-1-1-1-1-1-1-1-1-1',\n",
    "            '3-2-1-1-1-1-1-1-1-1',\n",
    "            '3-2-2-1-1-1-1-1-1-1',\n",
    "            '3-2-2-2-1-1-1-1-1-1',\n",
    "            '3-2-2-2-2-1-1-1-1-1',\n",
    "            '3-2-2-2-2-2-1-1-1-1',\n",
    "            '3-2-2-2-2-2-2-1-1-1',\n",
    "            '3-2-2-2-2-2-2-2-1-1',\n",
    "            '3-2-2-2-2-2-2-2-2-1',\n",
    "            '3-2-2-2-2-2-2-2-2-2',\n",
    "            '3-3-1-1-1-1-1-1-1-1',\n",
    "            '3-3-2-1-1-1-1-1-1-1',\n",
    "            '3-3-2-2-1-1-1-1-1-1',\n",
    "            '3-3-2-2-2-1-1-1-1-1',\n",
    "            '3-3-2-2-2-2-1-1-1-1',\n",
    "            '3-3-2-2-2-2-2-1-1-1',\n",
    "            '3-3-2-2-2-2-2-2-1-1',\n",
    "            '3-3-2-2-2-2-2-2-2-1',\n",
    "            '3-3-2-2-2-2-2-2-2-2',\n",
    "            '3-3-3-1-1-1-1-1-1-1',\n",
    "            '3-3-3-2-1-1-1-1-1-1',\n",
    "            '3-3-3-2-2-1-1-1-1-1',\n",
    "            '3-3-3-2-2-2-1-1-1-1',\n",
    "            '3-3-3-2-2-2-2-1-1-1',\n",
    "            '3-3-3-2-2-2-2-2-1-1',\n",
    "            '3-3-3-2-2-2-2-2-2-1',\n",
    "            '3-3-3-2-2-2-2-2-2-2',\n",
    "            '3-3-3-3-1-1-1-1-1-1',\n",
    "            '3-3-3-3-2-1-1-1-1-1',\n",
    "            '3-3-3-3-2-2-1-1-1-1',\n",
    "            '3-3-3-3-2-2-2-1-1-1',\n",
    "            '3-3-3-3-2-2-2-2-1-1',\n",
    "            '3-3-3-3-2-2-2-2-2-1',\n",
    "            '3-3-3-3-2-2-2-2-2-2',\n",
    "            '3-3-3-3-3-1-1-1-1-1',\n",
    "            '3-3-3-3-3-2-1-1-1-1',\n",
    "            '3-3-3-3-3-2-2-1-1-1',\n",
    "            '3-3-3-3-3-2-2-2-1-1',\n",
    "            '3-3-3-3-3-2-2-2-2-1',\n",
    "            '3-3-3-3-3-2-2-2-2-2',\n",
    "            '3-3-3-3-3-3-1-1-1-1',\n",
    "            '3-3-3-3-3-3-2-1-1-1',\n",
    "            '3-3-3-3-3-3-2-2-1-1',\n",
    "            '3-3-3-3-3-3-2-2-2-1',\n",
    "            '3-3-3-3-3-3-2-2-2-2',\n",
    "            '3-3-3-3-3-3-3-1-1-1',\n",
    "            '3-3-3-3-3-3-3-2-1-1',\n",
    "            '3-3-3-3-3-3-3-2-2-1',\n",
    "            '3-3-3-3-3-3-3-2-2-2',\n",
    "            '3-3-3-3-3-3-3-3-1-1',\n",
    "            '3-3-3-3-3-3-3-3-2-1',\n",
    "            '3-3-3-3-3-3-3-3-2-2',\n",
    "            '3-3-3-3-3-3-3-3-3-1',\n",
    "            '3-3-3-3-3-3-3-3-3-2',\n",
    "            '4-1-1-1-1-1-1-1-1-1',\n",
    "            '4-2-1-1-1-1-1-1-1-1',\n",
    "            '4-2-2-1-1-1-1-1-1-1',\n",
    "            '4-2-2-2-1-1-1-1-1-1',\n",
    "            '4-2-2-2-2-1-1-1-1-1',\n",
    "            '4-2-2-2-2-2-1-1-1-1',\n",
    "            '4-2-2-2-2-2-2-1-1-1',\n",
    "            '4-2-2-2-2-2-2-2-1-1',\n",
    "            '4-2-2-2-2-2-2-2-2-1',\n",
    "            '4-2-2-2-2-2-2-2-2-2',\n",
    "            '4-3-1-1-1-1-1-1-1-1',\n",
    "            '4-3-2-1-1-1-1-1-1-1',\n",
    "            '4-3-2-2-1-1-1-1-1-1',\n",
    "            '4-3-2-2-2-1-1-1-1-1',\n",
    "            '4-3-2-2-2-2-1-1-1-1',\n",
    "            '4-3-2-2-2-2-2-1-1-1',\n",
    "            '4-3-2-2-2-2-2-2-1-1',\n",
    "            '4-3-2-2-2-2-2-2-2-1',\n",
    "            '4-3-2-2-2-2-2-2-2-2',\n",
    "            '4-3-3-1-1-1-1-1-1-1',\n",
    "            '4-3-3-2-1-1-1-1-1-1',\n",
    "            '4-3-3-2-2-1-1-1-1-1',\n",
    "            '4-3-3-2-2-2-1-1-1-1',\n",
    "            '4-3-3-2-2-2-2-1-1-1',\n",
    "            '4-3-3-2-2-2-2-2-1-1',\n",
    "            '4-3-3-2-2-2-2-2-2-1',\n",
    "            '4-3-3-2-2-2-2-2-2-2',\n",
    "            '4-3-3-3-1-1-1-1-1-1',\n",
    "            '4-3-3-3-2-1-1-1-1-1',\n",
    "            '4-3-3-3-2-2-1-1-1-1',\n",
    "            '4-3-3-3-2-2-2-1-1-1',\n",
    "            '4-3-3-3-2-2-2-2-1-1',\n",
    "            '4-3-3-3-2-2-2-2-2-1',\n",
    "            '4-3-3-3-2-2-2-2-2-2',\n",
    "            '4-3-3-3-3-1-1-1-1-1',\n",
    "            '4-3-3-3-3-2-1-1-1-1',\n",
    "            '4-3-3-3-3-2-2-1-1-1',\n",
    "            '4-3-3-3-3-2-2-2-1-1',\n",
    "            '4-3-3-3-3-2-2-2-2-1',\n",
    "            '4-3-3-3-3-2-2-2-2-2',\n",
    "            '4-3-3-3-3-3-1-1-1-1',\n",
    "            '4-3-3-3-3-3-2-1-1-1',\n",
    "            '4-3-3-3-3-3-2-2-1-1',\n",
    "            '4-3-3-3-3-3-2-2-2-1',\n",
    "            '4-3-3-3-3-3-2-2-2-2',\n",
    "            '4-3-3-3-3-3-3-1-1-1',\n",
    "            '4-3-3-3-3-3-3-2-1-1',\n",
    "            '4-3-3-3-3-3-3-2-2-1',\n",
    "            '4-3-3-3-3-3-3-2-2-2',\n",
    "            '4-3-3-3-3-3-3-3-1-1',\n",
    "            '4-3-3-3-3-3-3-3-2-1',\n",
    "            '4-3-3-3-3-3-3-3-2-2',\n",
    "            '4-3-3-3-3-3-3-3-3-1',\n",
    "            '4-3-3-3-3-3-3-3-3-2',\n",
    "            '4-4-1-1-1-1-1-1-1-1',\n",
    "            '4-4-2-1-1-1-1-1-1-1',\n",
    "            '4-4-2-2-1-1-1-1-1-1',\n",
    "            '4-4-2-2-2-1-1-1-1-1',\n",
    "            '4-4-2-2-2-2-1-1-1-1',\n",
    "            '4-4-2-2-2-2-2-1-1-1',\n",
    "            '4-4-2-2-2-2-2-2-1-1',\n",
    "            '4-4-2-2-2-2-2-2-2-1',\n",
    "            '4-4-2-2-2-2-2-2-2-2',\n",
    "            '4-4-3-1-1-1-1-1-1-1',\n",
    "            '4-4-3-2-1-1-1-1-1-1',\n",
    "            '4-4-3-2-2-1-1-1-1-1',\n",
    "            '4-4-3-2-2-2-1-1-1-1',\n",
    "            '4-4-3-2-2-2-2-1-1-1',\n",
    "            '4-4-3-2-2-2-2-2-1-1',\n",
    "            '4-4-3-2-2-2-2-2-2-1',\n",
    "            '4-4-3-2-2-2-2-2-2-2',\n",
    "            '4-4-3-3-1-1-1-1-1-1',\n",
    "            '4-4-3-3-2-1-1-1-1-1',\n",
    "            '4-4-3-3-2-2-1-1-1-1',\n",
    "            '4-4-3-3-2-2-2-1-1-1',\n",
    "            '4-4-3-3-2-2-2-2-1-1',\n",
    "            '4-4-3-3-2-2-2-2-2-1',\n",
    "            '4-4-3-3-2-2-2-2-2-2',\n",
    "            '4-4-3-3-3-1-1-1-1-1',\n",
    "            '4-4-3-3-3-2-1-1-1-1',\n",
    "            '4-4-3-3-3-2-2-1-1-1',\n",
    "            '4-4-3-3-3-2-2-2-1-1',\n",
    "            '4-4-3-3-3-2-2-2-2-1',\n",
    "            '4-4-3-3-3-2-2-2-2-2',\n",
    "            '4-4-3-3-3-3-1-1-1-1',\n",
    "            '4-4-3-3-3-3-2-1-1-1',\n",
    "            '4-4-3-3-3-3-2-2-1-1',\n",
    "            '4-4-3-3-3-3-2-2-2-1',\n",
    "            '4-4-3-3-3-3-2-2-2-2',\n",
    "            '4-4-3-3-3-3-3-1-1-1',\n",
    "            '4-4-3-3-3-3-3-2-1-1',\n",
    "            '4-4-3-3-3-3-3-2-2-1',\n",
    "            '4-4-3-3-3-3-3-2-2-2',\n",
    "            '4-4-3-3-3-3-3-3-1-1',\n",
    "            '4-4-3-3-3-3-3-3-2-1',\n",
    "            '4-4-3-3-3-3-3-3-2-2',\n",
    "            '4-4-3-3-3-3-3-3-3-1',\n",
    "            '4-4-3-3-3-3-3-3-3-2',\n",
    "            '4-4-4-1-1-1-1-1-1-1',\n",
    "            '4-4-4-2-1-1-1-1-1-1',\n",
    "            '4-4-4-2-2-1-1-1-1-1',\n",
    "            '4-4-4-2-2-2-1-1-1-1',\n",
    "            '4-4-4-2-2-2-2-1-1-1',\n",
    "            '4-4-4-2-2-2-2-2-1-1',\n",
    "            '4-4-4-2-2-2-2-2-2-1',\n",
    "            '4-4-4-2-2-2-2-2-2-2',\n",
    "            '4-4-4-3-1-1-1-1-1-1',\n",
    "            '4-4-4-3-2-1-1-1-1-1',\n",
    "            '4-4-4-3-2-2-1-1-1-1',\n",
    "            '4-4-4-3-2-2-2-1-1-1',\n",
    "            '4-4-4-3-2-2-2-2-1-1',\n",
    "            '4-4-4-3-2-2-2-2-2-1',\n",
    "            '4-4-4-3-2-2-2-2-2-2',\n",
    "            '4-4-4-3-3-1-1-1-1-1',\n",
    "            '4-4-4-3-3-2-1-1-1-1',\n",
    "            '4-4-4-3-3-2-2-1-1-1',\n",
    "            '4-4-4-3-3-2-2-2-1-1',\n",
    "            '4-4-4-3-3-2-2-2-2-1',\n",
    "            '4-4-4-3-3-2-2-2-2-2',\n",
    "            '4-4-4-3-3-3-1-1-1-1',\n",
    "            '4-4-4-3-3-3-2-1-1-1',\n",
    "            '4-4-4-3-3-3-2-2-1-1',\n",
    "            '4-4-4-3-3-3-2-2-2-1',\n",
    "            '4-4-4-3-3-3-2-2-2-2',\n",
    "            '4-4-4-3-3-3-3-1-1-1',\n",
    "            '4-4-4-3-3-3-3-2-1-1',\n",
    "            '4-4-4-3-3-3-3-2-2-1',\n",
    "            '4-4-4-3-3-3-3-2-2-2',\n",
    "            '4-4-4-3-3-3-3-3-1-1',\n",
    "            '4-4-4-3-3-3-3-3-2-1',\n",
    "            '4-4-4-3-3-3-3-3-2-2',\n",
    "            '4-4-4-3-3-3-3-3-3-1',\n",
    "            '4-4-4-3-3-3-3-3-3-2',\n",
    "            '4-4-4-4-1-1-1-1-1-1',\n",
    "            '4-4-4-4-2-1-1-1-1-1',\n",
    "            '4-4-4-4-2-2-1-1-1-1',\n",
    "            '4-4-4-4-2-2-2-1-1-1',\n",
    "            '4-4-4-4-2-2-2-2-1-1',\n",
    "            '4-4-4-4-2-2-2-2-2-1',\n",
    "            '4-4-4-4-2-2-2-2-2-2',\n",
    "            '4-4-4-4-3-1-1-1-1-1',\n",
    "            '4-4-4-4-3-2-1-1-1-1',\n",
    "            '4-4-4-4-3-2-2-1-1-1',\n",
    "            '4-4-4-4-3-2-2-2-1-1',\n",
    "            '4-4-4-4-3-2-2-2-2-1',\n",
    "            '4-4-4-4-3-2-2-2-2-2',\n",
    "            '4-4-4-4-3-3-1-1-1-1',\n",
    "            '4-4-4-4-3-3-2-1-1-1',\n",
    "            '4-4-4-4-3-3-2-2-1-1',\n",
    "            '4-4-4-4-3-3-2-2-2-1',\n",
    "            '4-4-4-4-3-3-2-2-2-2',\n",
    "            '4-4-4-4-3-3-3-1-1-1',\n",
    "            '4-4-4-4-3-3-3-2-1-1',\n",
    "            '4-4-4-4-3-3-3-2-2-1',\n",
    "            '4-4-4-4-3-3-3-2-2-2',\n",
    "            '4-4-4-4-3-3-3-3-1-1',\n",
    "            '4-4-4-4-3-3-3-3-2-1',\n",
    "            '4-4-4-4-3-3-3-3-2-2',\n",
    "            '4-4-4-4-3-3-3-3-3-1',\n",
    "            '4-4-4-4-3-3-3-3-3-2',\n",
    "            '4-4-4-4-4-1-1-1-1-1',\n",
    "            '4-4-4-4-4-2-1-1-1-1',\n",
    "            '4-4-4-4-4-2-2-1-1-1',\n",
    "            '4-4-4-4-4-2-2-2-1-1',\n",
    "            '4-4-4-4-4-2-2-2-2-1',\n",
    "            '4-4-4-4-4-2-2-2-2-2',\n",
    "            '4-4-4-4-4-3-1-1-1-1',\n",
    "            '4-4-4-4-4-3-2-1-1-1',\n",
    "            '4-4-4-4-4-3-2-2-1-1',\n",
    "            '4-4-4-4-4-3-2-2-2-1',\n",
    "            '4-4-4-4-4-3-2-2-2-2',\n",
    "            '4-4-4-4-4-3-3-1-1-1',\n",
    "            '4-4-4-4-4-3-3-2-1-1',\n",
    "            '4-4-4-4-4-3-3-2-2-1',\n",
    "            '4-4-4-4-4-3-3-2-2-2',\n",
    "            '4-4-4-4-4-3-3-3-1-1',\n",
    "            '4-4-4-4-4-3-3-3-2-1',\n",
    "            '4-4-4-4-4-3-3-3-2-2',\n",
    "            '4-4-4-4-4-3-3-3-3-1',\n",
    "            '4-4-4-4-4-3-3-3-3-2',\n",
    "            '4-4-4-4-4-4-1-1-1-1',\n",
    "            '4-4-4-4-4-4-2-1-1-1',\n",
    "            '4-4-4-4-4-4-2-2-1-1',\n",
    "            '4-4-4-4-4-4-2-2-2-1',\n",
    "            '4-4-4-4-4-4-2-2-2-2',\n",
    "            '4-4-4-4-4-4-3-1-1-1',\n",
    "            '4-4-4-4-4-4-3-2-1-1',\n",
    "            '4-4-4-4-4-4-3-2-2-1',\n",
    "            '4-4-4-4-4-4-3-2-2-2',\n",
    "            '4-4-4-4-4-4-3-3-1-1',\n",
    "            '4-4-4-4-4-4-3-3-2-1',\n",
    "            '4-4-4-4-4-4-3-3-2-2',\n",
    "            '4-4-4-4-4-4-3-3-3-1',\n",
    "            '4-4-4-4-4-4-3-3-3-2',\n",
    "            '4-4-4-4-4-4-4-1-1-1',\n",
    "            '4-4-4-4-4-4-4-2-1-1',\n",
    "            '4-4-4-4-4-4-4-2-2-1',\n",
    "            '4-4-4-4-4-4-4-2-2-2',\n",
    "            '4-4-4-4-4-4-4-3-1-1',\n",
    "            '4-4-4-4-4-4-4-3-2-1',\n",
    "            '4-4-4-4-4-4-4-3-2-2',\n",
    "            '4-4-4-4-4-4-4-3-3-1',\n",
    "            '4-4-4-4-4-4-4-3-3-2',\n",
    "            '4-4-4-4-4-4-4-4-1-1',\n",
    "            '4-4-4-4-4-4-4-4-2-1',\n",
    "            '4-4-4-4-4-4-4-4-2-2',\n",
    "            '4-4-4-4-4-4-4-4-3-1',\n",
    "            '4-4-4-4-4-4-4-4-3-2',\n",
    "            '4-4-4-4-4-4-4-4-4-1',\n",
    "            '4-4-4-4-4-4-4-4-4-2']\n",
    "fastcore.test.test_eq(sorted(profiles), expected)\n"
   ]
  },
  {
   "attachments": {},
   "cell_type": "markdown",
   "id": "28d688cc",
   "metadata": {},
   "source": [
    "## Profile filters"
   ]
  },
  {
   "cell_type": "markdown",
   "id": "0211965b",
   "metadata": {},
   "source": [
    "The profile filters work out which strategy profiles are relevant to the game in question. I already pass in two filters by default which keep only the strategy profiles which are relevant to the transition the algorithm is curently calculating the fixation probability for, and are possible given the `allowed_sectors` for the players. \n",
    "\n",
    "Additional filters could be defined and passed in when desired (e.g. a filter to keep only strategy profiles which are unique to rearrangement)\n",
    "\n",
    "Technical note: A similar effect could be achieved by having a sampling rule which returned 0 as the likelihood for irrelevant or impossible strategy profiles. However, it usually makes sense to keep these restrictions separate: profile filters can be reused for many possible games, but sampling rules may vary more often. There is also a slight performance advantage to having a profile filter, since it reduces the number of times the sampling rule must be called."
   ]
  },
  {
   "cell_type": "markdown",
   "id": "01eb18c4",
   "metadata": {},
   "source": [
    "##### Profile filter methods"
   ]
  },
  {
   "cell_type": "code",
   "execution_count": null,
   "id": "cc1516c7-731c-4e1b-ba0d-64d50c571327",
   "metadata": {},
   "outputs": [],
   "source": [
    "#| export\n",
    "\n",
    "@multi\n",
    "def profile_filter(models):\n",
    "    \"Filter strategy profiles to those which satisfy the given rule.\"\n",
    "    return models.get('profile_filter_rule')\n",
    "\n",
    "@method(profile_filter, 'allowed_sectors')\n",
    "def profile_filter(models):\n",
    "    \"\"\"Filter strategy profiles to only those where players are from their\n",
    "    allowed sectors.\"\"\"\n",
    "    profiles = models.get('profiles_filtered',\n",
    "                          models.get('profiles',\n",
    "                                     create_profiles(models)['profiles']))\n",
    "    allowed_sectors = models['allowed_sectors']\n",
    "    sector_strategies = models['sector_strategies']\n",
    "    profiles_filtered = []\n",
    "    for k in profiles:\n",
    "        k_tuple = list(map(int, k.split(\"-\")))\n",
    "        valid = True\n",
    "        for i, ind in enumerate(k_tuple[::-1]):\n",
    "            allowed_inds = np.hstack([sector_strategies[j]\n",
    "                                      for j in allowed_sectors[f\"P{i+1}\"]])\n",
    "            if (ind not in allowed_inds) and (str(ind) not in allowed_inds):\n",
    "                valid = False\n",
    "        if valid==True:\n",
    "            profiles_filtered.append(k)\n",
    "    return {**models, \"profiles_filtered\": profiles_filtered}\n",
    "\n",
    "@method(profile_filter)\n",
    "def profile_filter(models):\n",
    "    \"\"\"The default filter method leaves models unchanged.\"\"\"\n",
    "    print(\"\"\"`profile_filter` called but `models` did not specify a\n",
    "           `profile_filter_rule`. Try specifying one.\"\"\")\n",
    "    return models"
   ]
  },
  {
   "cell_type": "markdown",
   "id": "5eeec315-c6ff-433a-8f02-f4e36e923bf2",
   "metadata": {},
   "source": [
    "We also need a filter which yields the relevant profiles for each transition considered.\n",
    "\n",
    "Given two states and their transition we first check that it is valid, and if we so we know\n",
    "the sector affected. Only that sector may choose different strategies, so the others are fixed.\n",
    "\n",
    "Note that the recurrent states of the game describes each strategy employed by each sector. This is written in the same form as we write the strategy profile, \"{strategy_code}-{strategy_code}-{strategy_code}\" and uses the same codes."
   ]
  },
  {
   "cell_type": "markdown",
   "id": "b13c67cf-4703-4d33-9b3f-265ab7b85fe5",
   "metadata": {},
   "source": [
    "**Note:** Below, my filter only keeps strategies which are relevant to the two recurrent states relevant to the transition. If we need additional strategies, this filter will not be sufficient (this might be the case if we allow a social learning rule which explores more than one mutant strategy at a time)"
   ]
  },
  {
   "cell_type": "code",
   "execution_count": null,
   "id": "9e833c29-95dd-432f-851f-f14bb11baf84",
   "metadata": {},
   "outputs": [],
   "source": [
    "#| export\n",
    "@method(profile_filter, 'relevant_to_transition')\n",
    "def profile_filter(models):\n",
    "    \"\"\"Filter for strategy profiles relevant to the given transition.\"\"\"\n",
    "    ind1, ind2 = models.get('transition_indices', [None, None])\n",
    "    if (ind1==None) and (ind2==None):\n",
    "        return models\n",
    "    sector_strategies = models['sector_strategies']\n",
    "    profiles = models.get('profiles_filtered',\n",
    "                          models.get('profiles',\n",
    "                                     create_profiles(models)['profiles']))\n",
    "    strategies1 = list(map(int, ind1.split(\"-\")))\n",
    "    strategies2 = list(map(int, ind2.split(\"-\")))\n",
    "    differ = [i1!=i2 for i1, i2 in zip(strategies1, strategies2)]\n",
    "    # Check states only differ for one sector\n",
    "    valid = sum(differ) == 1\n",
    "    # Check that states use valid stratgy codes for each sector\n",
    "    # Unlike when the states differ by more than one sector, this will only\n",
    "    # happen if the transition_indices and sctor_strategies are inconsistent,\n",
    "    # so we raise a value error.\n",
    "    for i, sector in enumerate(sorted(sector_strategies)):\n",
    "        if ((strategies1[-(i+1)] not in sector_strategies[sector]\n",
    "             and str(strategies1[-(i+1)]) not in sector_strategies[sector])\n",
    "            or (strategies2[-(i+1)] not in sector_strategies[sector]\n",
    "                and str(strategies2[-(i+1)]) not in sector_strategies[sector])):\n",
    "            valid = False\n",
    "            raise ValueError(\"States use invalid strategy codes for some sectors.\")\n",
    "    if valid:\n",
    "        strategies_valid = np.unique(np.hstack([strategies1, strategies2]))\n",
    "        profiles_filtered = []\n",
    "        for profile in profiles:\n",
    "            relevant = True\n",
    "            for strategy in list(map(int, profile.split(\"-\"))):\n",
    "                if strategy not in strategies_valid:\n",
    "                    relevant = False\n",
    "            if relevant == True:\n",
    "                profiles_filtered.append(profile)\n",
    "        return {**models, \"profiles_filtered\": profiles_filtered}\n",
    "    return models"
   ]
  },
  {
   "cell_type": "markdown",
   "id": "c5814bb5",
   "metadata": {},
   "source": [
    "I have also written a function for applying multiple filters."
   ]
  },
  {
   "cell_type": "code",
   "execution_count": null,
   "id": "3706ca10",
   "metadata": {},
   "outputs": [],
   "source": [
    "#| export\n",
    "def apply_profile_filters(models):\n",
    "    \"Apply all profile filters listed in `profile_filters` in `models`.\"\n",
    "    for rule in models.get('profile_filters', \n",
    "                           [\"allowed_sectors\",\n",
    "                            \"relevant_to_transition\"]):\n",
    "        models = profile_filter({**models, \"profile_filter_rule\": rule})\n",
    "    return models"
   ]
  },
  {
   "cell_type": "markdown",
   "id": "08572f94-c343-4f8c-9368-8a987c96505e",
   "metadata": {},
   "source": [
    "##### Tests for `profile_filter`"
   ]
  },
  {
   "cell_type": "markdown",
   "id": "942360a6",
   "metadata": {},
   "source": [
    "##### Test 1"
   ]
  },
  {
   "cell_type": "markdown",
   "id": "acabca16-0784-44de-9bd8-f360c886bcf3",
   "metadata": {},
   "source": [
    "Let's test the `\"allowed_sectors\"` filter rule."
   ]
  },
  {
   "cell_type": "markdown",
   "id": "7b9783e6-f5cd-4e00-9172-c094438cc0bc",
   "metadata": {},
   "source": [
    "First I test a game with 3 players but only two sectors.\\\n",
    "Each player is fixed to a specific sector, but two players belong to the same sector.\\\n",
    "In this case the rule should filter to only those profiles where players use\\\n",
    "the strategies available to the sectors they can play as."
   ]
  },
  {
   "cell_type": "code",
   "execution_count": null,
   "id": "9efb6373-0bce-49ce-9a46-91c38d184ca7",
   "metadata": {},
   "outputs": [
    {
     "name": "stderr",
     "output_type": "stream",
     "text": [
      "/tmp/ipykernel_4122/3464752654.py:24: FutureWarning: elementwise comparison failed; returning scalar instead, but in the future will perform elementwise comparison\n",
      "  if (ind not in allowed_inds) and (str(ind) not in allowed_inds):\n"
     ]
    }
   ],
   "source": [
    "#| export\n",
    "allowed_sectors = {\"P3\": [\"S2\"],\n",
    "                   \"P2\": [\"S2\"],\n",
    "                   \"P1\": [\"S1\"]}\n",
    "sector_strategies = {\"S2\": [2, 3],\n",
    "                     \"S1\": [0, 1]}\n",
    "n_players = 3\n",
    "n_strategies = [2, 2] # this could be derived from sector_strategies or the other way round.\n",
    "models = {\"profile_filter_rule\": \"allowed_sectors\",\n",
    "          \"n_players\": n_players,\n",
    "          \"n_strategies\": n_strategies,\n",
    "          \"allowed_sectors\": allowed_sectors,\n",
    "          \"sector_strategies\": sector_strategies}\n",
    "result = profile_filter(models)['profiles_filtered']\n",
    "# Only strategy 2 is irrelevant\n",
    "expected = [\"2-2-0\", \"2-2-1\", \n",
    "            \"2-3-0\", \"2-3-1\",\n",
    "            \"3-2-0\", \"3-2-1\",\n",
    "            \"3-3-0\", \"3-3-1\",]\n",
    "fastcore.test.test_eq(result, expected)\n",
    "fastcore.test.test_eq(len(result), 8)"
   ]
  },
  {
   "cell_type": "markdown",
   "id": "299f62cd-df5d-4261-b082-ad24d5569893",
   "metadata": {},
   "source": [
    "I then test a 3 player game with 3 sectors. Each player is fixed to a particular sector."
   ]
  },
  {
   "cell_type": "code",
   "execution_count": null,
   "id": "13f824a8-dcf9-4673-91cb-f40a4d9a0c23",
   "metadata": {},
   "outputs": [
    {
     "name": "stderr",
     "output_type": "stream",
     "text": [
      "/tmp/ipykernel_4122/3464752654.py:24: FutureWarning: elementwise comparison failed; returning scalar instead, but in the future will perform elementwise comparison\n",
      "  if (ind not in allowed_inds) and (str(ind) not in allowed_inds):\n"
     ]
    }
   ],
   "source": [
    "#| export\n",
    "allowed_sectors = {\"P3\": [\"S3\"],\n",
    "                   \"P2\": [\"S2\"],\n",
    "                   \"P1\": [\"S1\"]}\n",
    "sector_strategies = {\"S3\": [4, 5],\n",
    "                     \"S2\": [2, 3],\n",
    "                     \"S1\": [0, 1]}\n",
    "models = {\"profile_filter_rule\": \"allowed_sectors\",\n",
    "          \"n_players\": 3,\n",
    "          \"n_strategies\": [2, 2, 2],\n",
    "          \"allowed_sectors\": allowed_sectors,\n",
    "          \"sector_strategies\": sector_strategies}\n",
    "result = profile_filter(models)['profiles_filtered']\n",
    "expected = [\"4-2-0\",\n",
    "            \"4-2-1\",\n",
    "            \"4-3-0\",\n",
    "            \"4-3-1\",\n",
    "            \"5-2-0\",\n",
    "            \"5-2-1\",\n",
    "            \"5-3-0\",\n",
    "            \"5-3-1\",\n",
    "           ]\n",
    "fastcore.test.test_eq(result, expected)"
   ]
  },
  {
   "cell_type": "markdown",
   "id": "9772c12b",
   "metadata": {},
   "source": [
    "##### Test 2"
   ]
  },
  {
   "cell_type": "markdown",
   "id": "78ff4f4b-54d5-4bb0-a409-95055ddd436a",
   "metadata": {},
   "source": [
    "Now, let's test the `\"relevant_to_transition\"` filter rule."
   ]
  },
  {
   "cell_type": "markdown",
   "id": "8bf65975-c159-48cd-8a8c-9732f4b14bb5",
   "metadata": {},
   "source": [
    "First I test a game with 3 players but only two populations.\\\n",
    "In this case the rule should filter to only the relevant profiles where strategy 2 is missing.\\\n",
    "Recall that strategy 2 is the first strategy available to a player from sector 2."
   ]
  },
  {
   "cell_type": "code",
   "execution_count": null,
   "id": "2d413677-9636-4369-9cb5-7208d2da7531",
   "metadata": {},
   "outputs": [],
   "source": [
    "#| export\n",
    "sector_strategies = {\"S2\": [2, 3],\n",
    "                     \"S1\": [0, 1]}\n",
    "transition_indices = [\"3-0\", \"3-1\"]\n",
    "allowed_sectors = {\"P1\": [\"S1\"],\n",
    "                   \"P2\": [\"S1\"],\n",
    "                   \"P3\": [\"S2\"],}\n",
    "models = {\"profile_filter_rule\": \"relevant_to_transition\",\n",
    "          \"n_players\": n_players,\n",
    "          \"n_strategies\": n_strategies,\n",
    "          \"sector_strategies\": sector_strategies,\n",
    "          \"transition_indices\": transition_indices}\n",
    "result = profile_filter(models)['profiles_filtered']\n",
    "# Only strategy 2 is irrelevant\n",
    "expected = [\"0-0-0\", \"0-0-1\", \"0-0-3\", \n",
    "            \"0-1-0\", \"0-1-1\", \"0-1-3\",\n",
    "            \"0-3-0\", \"0-3-1\", \"0-3-3\",\n",
    "            \"1-0-0\", \"1-0-1\", \"1-0-3\",\n",
    "            \"1-1-0\", \"1-1-1\", \"1-1-3\",\n",
    "            \"1-3-0\", \"1-3-1\", \"1-3-3\",\n",
    "            \"3-0-0\", \"3-0-1\", \"3-0-3\",\n",
    "            \"3-1-0\", \"3-1-1\", \"3-1-3\",\n",
    "            \"3-3-0\", \"3-3-1\", \"3-3-3\"]\n",
    "fastcore.test.test_eq(result, expected)\n",
    "expected = (np.sum(n_strategies) - 1) ** n_players  # 1 of the 4 strategies won't be relevant here\n",
    "fastcore.test.test_eq(len(result), expected)"
   ]
  },
  {
   "cell_type": "markdown",
   "id": "8d836d54-4208-4009-9c9d-574b32a0a098",
   "metadata": {},
   "source": [
    "I then test a larger game with 3 players and 3 sectors. The list is long, so\n",
    "I only check that the number of profiles kept is what we expect."
   ]
  },
  {
   "cell_type": "code",
   "execution_count": null,
   "id": "6a57aa66-9097-47cd-a57d-609da6d82b46",
   "metadata": {},
   "outputs": [],
   "source": [
    "#| export\n",
    "sector_strategies = {\"S3\": [4, 5],\n",
    "                     \"S2\": [2, 3],\n",
    "                     \"S1\": [0, 1]}\n",
    "transition_indices = [\"5-3-1\", \"5-3-0\"]\n",
    "n_players = 3\n",
    "n_strategies = [2, 2, 2]\n",
    "models = {\"profile_filter_rule\": \"relevant_to_transition\",\n",
    "          \"n_players\": n_players,\n",
    "          \"n_strategies\": n_strategies,\n",
    "          \"sector_strategies\": sector_strategies,\n",
    "          \"transition_indices\": transition_indices}\n",
    "result = profile_filter(models)['profiles_filtered']\n",
    "expected = (np.sum(n_strategies) - 2) ** n_players  # 2 of the 6 strategies won't be relevant here\n",
    "fastcore.test.test_eq(len(result), expected)"
   ]
  },
  {
   "cell_type": "markdown",
   "id": "cce84882",
   "metadata": {},
   "source": [
    "##### Test 3"
   ]
  },
  {
   "cell_type": "markdown",
   "id": "62c167bc-93f2-4f20-8a7b-0884ad01605f",
   "metadata": {},
   "source": [
    "I now test the `\"allowed_sectors\"` and \"`relevant_to_transition`\" rules when used together.\\\n",
    "The game is as before with 3 players and 3 sectors. Here, we can check that the list of profiles is as expected."
   ]
  },
  {
   "cell_type": "code",
   "execution_count": null,
   "id": "7a9a3786-8b29-4f21-97bc-79c0f83282cb",
   "metadata": {},
   "outputs": [
    {
     "name": "stderr",
     "output_type": "stream",
     "text": [
      "/tmp/ipykernel_4122/3464752654.py:24: FutureWarning: elementwise comparison failed; returning scalar instead, but in the future will perform elementwise comparison\n",
      "  if (ind not in allowed_inds) and (str(ind) not in allowed_inds):\n"
     ]
    }
   ],
   "source": [
    "#| export\n",
    "allowed_sectors = {\"P3\": [\"S3\"],\n",
    "                   \"P2\": [\"S2\"],\n",
    "                   \"P1\": [\"S1\"]}\n",
    "sector_strategies = {\"S3\": [4, 5],\n",
    "                     \"S2\": [2, 3],\n",
    "                     \"S1\": [0, 1]}\n",
    "transition_indices = [\"5-3-1\", \"5-3-0\"]\n",
    "n_players = 3\n",
    "n_strategies = [2, 2, 2]\n",
    "models = {\"profile_filter_rule\": \"relevant_to_transition\",\n",
    "          \"n_players\": n_players,\n",
    "          \"n_strategies\": n_strategies,\n",
    "          \"allowed_sectors\": allowed_sectors,\n",
    "          \"sector_strategies\": sector_strategies,\n",
    "          \"transition_indices\": transition_indices}\n",
    "result = thread_macro(models,\n",
    "                      profile_filter,\n",
    "                      (assoc, \"profile_filter_rule\", \"allowed_sectors\"),\n",
    "                      profile_filter)\n",
    "expected = [\"5-3-0\", \"5-3-1\"]\n",
    "fastcore.test.test_eq(len(result['profiles_filtered']), 2)\n",
    "fastcore.test.test_eq(result['profiles_filtered'], expected)"
   ]
  },
  {
   "cell_type": "markdown",
   "id": "1a40e764-66ff-44a8-bb65-e54914e2bb03",
   "metadata": {},
   "source": [
    "The order we apply these two filter rules should not matter."
   ]
  },
  {
   "cell_type": "code",
   "execution_count": null,
   "id": "fd2dd37a-1b04-42f7-9cb2-f3c1fca4a6c3",
   "metadata": {},
   "outputs": [
    {
     "name": "stderr",
     "output_type": "stream",
     "text": [
      "/tmp/ipykernel_4122/3464752654.py:24: FutureWarning: elementwise comparison failed; returning scalar instead, but in the future will perform elementwise comparison\n",
      "  if (ind not in allowed_inds) and (str(ind) not in allowed_inds):\n"
     ]
    }
   ],
   "source": [
    "#| export\n",
    "allowed_sectors = {\"P3\": [\"S3\"],\n",
    "                   \"P2\": [\"S2\"],\n",
    "                   \"P1\": [\"S1\"]}\n",
    "sector_strategies = {\"S3\": [4, 5],\n",
    "                     \"S2\": [2, 3],\n",
    "                     \"S1\": [0, 1]}\n",
    "transition_indices = [\"5-3-1\", \"5-3-0\"]\n",
    "n_players = 3\n",
    "n_strategies = [2, 2, 2]\n",
    "models = {\"profile_filter_rule\": \"relevant_to_transition\",\n",
    "          \"n_players\": n_players,\n",
    "          \"n_strategies\": n_strategies,\n",
    "          \"allowed_sectors\": allowed_sectors,\n",
    "          \"sector_strategies\": sector_strategies,\n",
    "          \"transition_indices\": transition_indices}\n",
    "result1 = thread_macro(models,\n",
    "                       profile_filter,\n",
    "                       (assoc, \"profile_filter_rule\", \"allowed_sectors\"),\n",
    "                       profile_filter)\n",
    "result2 = thread_macro(models,\n",
    "                       (assoc, \"profile_filter_rule\", \"allowed_sectors\"),\n",
    "                       profile_filter,\n",
    "                       (assoc, \"profile_filter_rule\", \"relevant_to_transition\"),\n",
    "                       profile_filter)\n",
    "expected = [\"5-3-0\", \"5-3-1\"]\n",
    "fastcore.test.test_eq(result1['profiles_filtered'], expected)\n",
    "fastcore.test.test_eq(result2['profiles_filtered'], expected)\n",
    "fastcore.test.test_eq(result1['profiles_filtered'],\n",
    "                      result2['profiles_filtered'])"
   ]
  },
  {
   "cell_type": "markdown",
   "id": "2b3bae2c",
   "metadata": {},
   "source": [
    "We can use the `apply_profile_filters` function to achieve the same result."
   ]
  },
  {
   "cell_type": "code",
   "execution_count": null,
   "id": "193c8072",
   "metadata": {},
   "outputs": [
    {
     "name": "stderr",
     "output_type": "stream",
     "text": [
      "/tmp/ipykernel_4122/3464752654.py:24: FutureWarning: elementwise comparison failed; returning scalar instead, but in the future will perform elementwise comparison\n",
      "  if (ind not in allowed_inds) and (str(ind) not in allowed_inds):\n"
     ]
    }
   ],
   "source": [
    "#| export\n",
    "allowed_sectors = {\"P3\": [\"S3\"],\n",
    "                   \"P2\": [\"S2\"],\n",
    "                   \"P1\": [\"S1\"]}\n",
    "sector_strategies = {\"S3\": [4, 5],\n",
    "                     \"S2\": [2, 3],\n",
    "                     \"S1\": [0, 1]}\n",
    "transition_indices = [\"5-3-1\", \"5-3-0\"]\n",
    "n_players = 3\n",
    "n_strategies = [2, 2, 2]\n",
    "models = {\"profile_filter_rule\": \"relevant_to_transition\",\n",
    "          \"n_players\": n_players,\n",
    "          \"n_strategies\": n_strategies,\n",
    "          \"allowed_sectors\": allowed_sectors,\n",
    "          \"sector_strategies\": sector_strategies,\n",
    "          \"transition_indices\": transition_indices}\n",
    "models = assoc(models, \n",
    "               'profile_filters', \n",
    "               [\"allowed_sectors\", \"relevant_to_transition\"])\n",
    "result = apply_profile_filters(models)\n",
    "expected = [\"5-3-0\", \"5-3-1\"]\n",
    "fastcore.test.test_eq(result['profiles_filtered'], expected)"
   ]
  },
  {
   "cell_type": "markdown",
   "id": "94d347f2-50ca-4406-baae-6cdea6829e46",
   "metadata": {},
   "source": [
    "Let's also check the eariler game with 2 sectors and 3 players."
   ]
  },
  {
   "cell_type": "code",
   "execution_count": null,
   "id": "0d0c957f-c525-4464-a5e7-9b007956374d",
   "metadata": {},
   "outputs": [
    {
     "name": "stderr",
     "output_type": "stream",
     "text": [
      "/tmp/ipykernel_4122/3464752654.py:24: FutureWarning: elementwise comparison failed; returning scalar instead, but in the future will perform elementwise comparison\n",
      "  if (ind not in allowed_inds) and (str(ind) not in allowed_inds):\n"
     ]
    }
   ],
   "source": [
    "#| export\n",
    "allowed_sectors = {\"P3\": [\"S2\"],\n",
    "                   \"P2\": [\"S2\"],\n",
    "                   \"P1\": [\"S1\"]}\n",
    "sector_strategies = {\"S2\": [2, 3],\n",
    "                     \"S1\": [0, 1]}\n",
    "transition_indices = [\"3-0\", \"3-1\"]\n",
    "n_players = 3\n",
    "n_strategies = [2, 2] # this could be derived from sector_strategies or the other way round.\n",
    "models = {\"profile_filter_rule\": \"relevant_to_transition\",\n",
    "          \"n_players\": n_players,\n",
    "          \"n_strategies\": n_strategies,\n",
    "          \"allowed_sectors\": allowed_sectors,\n",
    "          \"sector_strategies\": sector_strategies,\n",
    "          \"transition_indices\": transition_indices}\n",
    "result = apply_profile_filters(models)\n",
    "result1 = thread_macro(models,\n",
    "                       profile_filter,\n",
    "                       (assoc, \"profile_filter_rule\", \"allowed_sectors\"),\n",
    "                       profile_filter)\n",
    "result2 = thread_macro(models,\n",
    "                       (assoc, \"profile_filter_rule\", \"allowed_sectors\"),\n",
    "                       profile_filter,\n",
    "                       (assoc, \"profile_filter_rule\", \"relevant_to_transition\"),\n",
    "                       profile_filter)\n",
    "expected = [\"3-3-0\", \"3-3-1\"]\n",
    "fastcore.test.test_eq(result1['profiles_filtered'], expected)\n",
    "fastcore.test.test_eq(result2['profiles_filtered'], expected)\n",
    "fastcore.test.test_eq(result1['profiles_filtered'],\n",
    "                      result2['profiles_filtered'])"
   ]
  },
  {
   "cell_type": "markdown",
   "id": "dd64f4dd-0bc0-486b-9486-d6069219a388",
   "metadata": {},
   "source": [
    "Notice that in this game, transitions which affect the sector with multiple players require us to look at more profiles."
   ]
  },
  {
   "cell_type": "code",
   "execution_count": null,
   "id": "3d75b0ea-6202-4f98-a13c-fc0df11e3938",
   "metadata": {},
   "outputs": [
    {
     "name": "stderr",
     "output_type": "stream",
     "text": [
      "/tmp/ipykernel_4122/3464752654.py:24: FutureWarning: elementwise comparison failed; returning scalar instead, but in the future will perform elementwise comparison\n",
      "  if (ind not in allowed_inds) and (str(ind) not in allowed_inds):\n"
     ]
    }
   ],
   "source": [
    "#| export\n",
    "allowed_sectors = {\"P3\": [\"S2\"],\n",
    "                   \"P2\": [\"S2\"],\n",
    "                   \"P1\": [\"S1\"]}\n",
    "sector_strategies = {\"S2\": [2, 3],\n",
    "                     \"S1\": [0, 1]}\n",
    "transition_indices = [\"2-1\", \"3-1\"]\n",
    "n_players = 3\n",
    "n_strategies = [2, 2] # this could be derived from sector_strategies or the other way round.\n",
    "models = {\"profile_filter_rule\": \"relevant_to_transition\",\n",
    "          \"n_players\": n_players,\n",
    "          \"n_strategies\": n_strategies,\n",
    "          \"allowed_sectors\": allowed_sectors,\n",
    "          \"sector_strategies\": sector_strategies,\n",
    "          \"transition_indices\": transition_indices}\n",
    "result1 = thread_macro(models,\n",
    "                       profile_filter,\n",
    "                       (assoc, \"profile_filter_rule\", \"allowed_sectors\"),\n",
    "                       profile_filter)\n",
    "result2 = thread_macro(models,\n",
    "                       (assoc, \"profile_filter_rule\", \"allowed_sectors\"),\n",
    "                       profile_filter,\n",
    "                       (assoc, \"profile_filter_rule\", \"relevant_to_transition\"),\n",
    "                       profile_filter)\n",
    "models = assoc(models, \n",
    "               'profile_filters', \n",
    "               [\"allowed_sectors\", \"relevant_to_transition\"])\n",
    "result3 = apply_profile_filters(models)\n",
    "expected = [\"2-2-1\", \"2-3-1\", \"3-2-1\", \"3-3-1\"]\n",
    "fastcore.test.test_eq(result1['profiles_filtered'], expected)\n",
    "fastcore.test.test_eq(result2['profiles_filtered'], expected)\n",
    "fastcore.test.test_eq(result3['profiles_filtered'], expected)"
   ]
  },
  {
   "attachments": {},
   "cell_type": "markdown",
   "metadata": {},
   "source": [
    "### An additional method for `create_profiles` which depends on `profile_filter`"
   ]
  },
  {
   "cell_type": "code",
   "execution_count": null,
   "metadata": {},
   "outputs": [],
   "source": [
    "#| export\n",
    "@method(create_profiles, \"allowed_sectors\")\n",
    "def create_profiles(models):\n",
    "    \"\"\"Create all strategy profiles for the set of models.\"\"\"\n",
    "    profiles = thread_macro(create_profiles({**models, \"profiles_rule\": None}),\n",
    "                            (assoc, \"profile_filter_rule\", \"allowed_sectors\"),\n",
    "                            profile_filter,\n",
    "                            (get, \"profiles_filtered\"),\n",
    "                            )\n",
    "    return {**models, \"profiles\": profiles}\n"
   ]
  },
  {
   "attachments": {},
   "cell_type": "markdown",
   "metadata": {},
   "source": [
    "Here is a quick test of the \"allowed_sectors\" method"
   ]
  },
  {
   "cell_type": "code",
   "execution_count": null,
   "metadata": {},
   "outputs": [
    {
     "name": "stderr",
     "output_type": "stream",
     "text": [
      "/tmp/ipykernel_4122/3464752654.py:24: FutureWarning: elementwise comparison failed; returning scalar instead, but in the future will perform elementwise comparison\n",
      "  if (ind not in allowed_inds) and (str(ind) not in allowed_inds):\n"
     ]
    }
   ],
   "source": [
    "allowed_sectors = {\"P1\": [\"S1\"],\n",
    "                   \"P2\": [\"S1\", \"S2\"], }\n",
    "# Third sector irrelevant given allowed sectors\n",
    "sector_strategies = {\"S1\": [\"1\", \"2\"],\n",
    "                     \"S2\": [\"3\", \"4\"],\n",
    "                     \"S3\": [\"5\", \"6\"]}\n",
    "models = {\"allowed_sectors\": allowed_sectors,\n",
    "          \"sector_strategies\": sector_strategies,\n",
    "          \"profiles_rule\": \"allowed_sectors\"}\n",
    "profiles = create_profiles(models)['profiles']\n",
    "expected = ['1-1', \"1-2\", '2-1', '2-2', '3-1', '3-2', '4-1', '4-2']\n",
    "fastcore.test.test_eq(sorted(profiles), expected)"
   ]
  },
  {
   "cell_type": "code",
   "execution_count": null,
   "metadata": {},
   "outputs": [],
   "source": [
    "#| hide\n",
    "import nbdev; nbdev.nbdev_export()"
   ]
  }
 ],
 "metadata": {
  "kernelspec": {
   "display_name": "base",
   "language": "python",
   "name": "python3"
  },
  "language_info": {
   "name": "python",
   "version": "3.10.6"
  },
  "vscode": {
   "interpreter": {
    "hash": "5844494aa8caf4c1a0a05d85746d5381f91a25fadc32ae63a73a248c881db361"
   }
  }
 },
 "nbformat": 4,
 "nbformat_minor": 4
}
