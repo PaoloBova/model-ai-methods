{
 "cells": [
  {
   "cell_type": "markdown",
   "id": "41c3f0b9-1b16-4c54-a43c-6c9d8d928adb",
   "metadata": {},
   "source": [
    "# References"
   ]
  },
  {
   "cell_type": "code",
   "execution_count": null,
   "id": "9a559a52-fade-480e-b0ef-88f75345c635",
   "metadata": {},
   "outputs": [
    {
     "data": {
      "text/plain": [
       "2"
      ]
     },
     "execution_count": null,
     "metadata": {},
     "output_type": "execute_result"
    }
   ],
   "source": [
    "#| hide\n",
    "1 + 1"
   ]
  },
  {
   "cell_type": "markdown",
   "id": "189b7823-3e92-45f1-b2c6-8f51df5632c6",
   "metadata": {},
   "source": [
    "Armstrong, S., Bostrom, N., & Shulman, C. (2016). Racing to the precipice: A model of artificial intelligence development. AI & SOCIETY, 31(2), 201–206. https://doi.org/10.1007/s00146-015-0590-y\n",
    "\n",
    "Askell, A., Brundage, M., & Hadfield, G. (2019). The Role of Cooperation in Responsible AI Development. ArXiv:1907.04534 [Cs]. http://arxiv.org/abs/1907.04534\n",
    "\n",
    "Bostrom, N. (2014). Superintelligence: Paths, dangers, strategies (First edition). Oxford University Press.\n",
    "\n",
    "Cave, S., & Ó hÉigeartaigh, S. S. (2018). An AI Race for Strategic Advantage: Rhetoric and Risks. Proceedings of the 2018 AAAI/ACM Conference on AI, Ethics, and Society, 36–40. https://doi.org/10.1145/3278721.3278780\n",
    "\n",
    "Cimpeanu, T., Santos, F. C., Pereira, L. M., Lenaerts, T., & Han, T. A. (2020). AI Development Race Can Be Mediated on Heterogeneous Networks. ArXiv:2012.15234 [Cs]. http://arxiv.org/abs/2012.15234\n",
    "\n",
    "Dafoe, A. (2018). AI Governance: A Research Agenda. The University of Oxford. https://www.fhi.ox.ac.uk/wp-content/uploads/GovAI-Agenda.pdf\n",
    "\n",
    "Gruetzemacher, R., Dorner, F., Bernaola-Alvarez, N., Giattino, C., & Manheim, D. (2020). Forecasting AI Progress: A Research Agenda. ArXiv:2008.01848 [Cs]. http://arxiv.org/abs/2008.01848\n",
    "\n",
    "Gruetzemacher, R., & Whittlestone, J. (2020). The Transformative Potential of Artificial Intelligence. ArXiv:1912.00747 [Cs]. http://arxiv.org/abs/1912.00747\n",
    "\n",
    "Han, T. A., Lenaerts, T., Santos, F. C., & Pereira, L. M. (2022). Voluntary safety commitments provide an escape from over-regulation in AI development. Technology in Society, 68, 101843. https://doi.org/10.1016/j.techsoc.2021.101843\n",
    "\n",
    "Han, T. A., Pereira, L. M., & Lenaerts, T. (2017). Evolution of commitment and level of participation in public goods games. Autonomous Agents and Multi-Agent Systems, 31(3), 561–583. https://doi.org/10.1007/s10458-016-9338-4\n",
    "\n",
    "Han, T. A., Pereira, L. M., & Lenaerts, T. (2019). Modelling and Influencing the AI Bidding War: A Research Agenda. Proceedings of the 2019 AAAI/ACM Conference on AI, Ethics, and Society, 5–11. https://doi.org/10.1145/3306618.3314265\n",
    "\n",
    "Han, T. A., Pereira, L. M., Lenaerts, T., & Santos, F. C. (2021). Mediating artificial intelligence developments through negative and positive incentives. PLOS ONE, 16(1). https://doi.org/10.1371/journal.pone.0244592\n",
    "\n",
    "Han, T. A., Pereira, L. M., Santos, F. C., & Lenaerts, T. (2020). To Regulate or Not: A Social Dynamics Analysis of an Idealised AI Race. Journal of Artificial Intelligence Research, 69, 881–921. https://doi.org/10.1613/jair.1.12225\n",
    "\n",
    "Institute, F. of L. (2017). AI Principles. https://futureoflife.org/ai-principles/\n",
    "\n",
    "Krakovna, V., Uesato, J., Mikulik, V., Rahtz, M., Everitt, T., Kumar, R., Kenton, Z., Leike, J., & Legg, S. (2020, April 21). Specification gaming: The flip side of AI ingenuity. Deepmind. https://deepmind.com/blog/article/Specification-gaming-the-flip-side-of-AI-ingenuity\n",
    "\n",
    "LaCroix, T., & Mohseni, A. (2021). The Tragedy of the AI Commons. ArXiv:2006.05203 [Cs]. http://arxiv.org/abs/2006.05203\n",
    "\n",
    "Li, Y., Choi, D., Chung, J., Kushman, N., Schrittwieser, J., Leblond, R., Keeling, J., Gimeno, F., Lago, A. D., Hubert, T., Choy, P., & de, C. (n.d.). Competition-Level Code Generation with AlphaCode. 73.\n",
    "\n",
    "Naudé, W., & Dimitri, N. (2020). The race for an artificial general intelligence: Implications for public policy. AI & SOCIETY, 35(2), 367–379. https://doi.org/10.1007/s00146-019-00887-x\n",
    "\n",
    "Ogbo, N. B., Elragig, A., & Han, T. A. (2021). Evolution of coordination in pairwise and multi-player interactions via prior commitments. Adaptive Behavior, 1059712321993166. https://doi.org/10.1177/1059712321993166\n",
    "\n",
    "O’Keefe, C., Cihon, P., Garfinkel, B., Flynn, C., Leung, J., & Dafoe, A. (2020). The Windfall Clause: Distributing the Benefits of AI for the Common Good. Proceedings of the AAAI/ACM Conference on AI, Ethics, and Society, 327–331. https://doi.org/10.1145/3375627.3375842\n",
    "\n",
    "Russell, S. J. (2019). Human compatible: Artificial intelligence and the problem of control. Penguin Publishing Group.\n",
    "\n",
    "Taddeo, M., & Floridi, L. (2018). Regulate artificial intelligence to avert cyber arms race. Nature, 556(7701), 296–298. https://doi.org/10.1038/d41586-018-04602-6\n",
    "\n",
    "Tzachor, A., Whittlestone, J., Sundaram, L., & hÉigeartaigh, S. Ó. (2020). Artificial intelligence in a crisis needs ethics with urgency. Nature Machine Intelligence, 2(7), 365–366. https://doi.org/10.1038/s42256-020-0195-0\n",
    "\n",
    "Whittlestone, J., & Clark, J. (2021). Why and How Governments Should Monitor AI Development. ArXiv:2108.12427 [Cs]. http://arxiv.org/abs/2108.12427\n",
    "\n",
    "Whittlestone, J., Nyrup, R., Alexandrova, A., & Cave, S. (2019). The Role and Limits of Principles in AI Ethics: Towards a Focus on Tensions. Proceedings of the 2019 AAAI/ACM Conference on AI, Ethics, and Society, 195–200. https://doi.org/10.1145/3306618.3314289\n",
    "\n",
    "Yeung, D. W. K., & Petrosyan, L. A. (2016). Subgame Consistent Cooperation (Vol. 47). Springer Singapore. https://doi.org/10.1007/978-981-10-1545-8"
   ]
  },
  {
   "cell_type": "code",
   "execution_count": null,
   "id": "c7ff821d-4553-4edf-aff0-2e5435691796",
   "metadata": {},
   "outputs": [],
   "source": []
  }
 ],
 "metadata": {
  "kernelspec": {
   "display_name": "Python 3 (ipykernel)",
   "language": "python",
   "name": "python3"
  }
 },
 "nbformat": 4,
 "nbformat_minor": 5
}
